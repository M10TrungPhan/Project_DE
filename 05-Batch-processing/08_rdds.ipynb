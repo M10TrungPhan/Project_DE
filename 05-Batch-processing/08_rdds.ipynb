{
 "cells": [
  {
   "cell_type": "code",
   "execution_count": 1,
   "metadata": {},
   "outputs": [],
   "source": [
    "import pyspark\n",
    "from pyspark.sql import SparkSession\n",
    "from pyspark.sql.functions import col"
   ]
  },
  {
   "cell_type": "code",
   "execution_count": 2,
   "metadata": {},
   "outputs": [],
   "source": [
    "spark = SparkSession.builder \\\n",
    "    .master(\"local[*]\") \\\n",
    "    .appName('test') \\\n",
    "    .getOrCreate()\n"
   ]
  },
  {
   "cell_type": "code",
   "execution_count": 3,
   "metadata": {},
   "outputs": [],
   "source": [
    "df_green = spark.read.parquet('data/pq/green/*/*')"
   ]
  },
  {
   "cell_type": "code",
   "execution_count": 4,
   "metadata": {},
   "outputs": [
    {
     "name": "stderr",
     "output_type": "stream",
     "text": [
      "c:\\Users\\Windows\\anaconda3\\envs\\dev\\lib\\site-packages\\pyspark\\sql\\dataframe.py:330: FutureWarning: Deprecated in 2.0, use createOrReplaceTempView instead.\n",
      "  warnings.warn(\"Deprecated in 2.0, use createOrReplaceTempView instead.\", FutureWarning)\n"
     ]
    }
   ],
   "source": [
    "df_green.registerTempTable('green')"
   ]
  },
  {
   "cell_type": "code",
   "execution_count": 5,
   "metadata": {},
   "outputs": [],
   "source": [
    "df_green_revenue = spark.sql(\"\"\"\n",
    "SELECT\n",
    "    -- Reveneue grouping \n",
    "    date_trunc(\"hour\", \"pickup_datetime\") AS revenue_month, \n",
    "    PULocationID AS zone,\n",
    "                      \n",
    "    SUM(total_amount) AS revenue_monthly_total_amount,\n",
    "    COUNT(1) as number_records\n",
    "FROM green\n",
    "\n",
    "WHERE lpep_pickup_datetime >='2020-01-01 00:00:00'\n",
    "GROUP BY 1,2\n",
    "ORDER BY 1,2\n",
    "\"\"\")"
   ]
  },
  {
   "cell_type": "code",
   "execution_count": 6,
   "metadata": {},
   "outputs": [
    {
     "data": {
      "text/plain": [
       "[Row(VendorID=1, lpep_pickup_datetime=datetime.datetime(2020, 1, 3, 19, 0, 1), lpep_dropoff_datetime=datetime.datetime(2020, 1, 3, 19, 5, 48), store_and_fwd_flag='N', RatecodeID=1, PULocationID=244, DOLocationID=116, passenger_count=1, trip_distance=1.0, fare_amount=6.0, extra=1.0, mta_tax=0.5, tip_amount=1.0, tolls_amount=0.0, ehail_fee=None, improvement_surcharge=0.3, total_amount=8.8, payment_type=1, trip_type=1, congestion_surcharge=0.0),\n",
       " Row(VendorID=2, lpep_pickup_datetime=datetime.datetime(2020, 1, 29, 19, 55, 1), lpep_dropoff_datetime=datetime.datetime(2020, 1, 29, 19, 59, 12), store_and_fwd_flag='N', RatecodeID=1, PULocationID=166, DOLocationID=24, passenger_count=1, trip_distance=0.82, fare_amount=5.0, extra=1.0, mta_tax=0.5, tip_amount=1.36, tolls_amount=0.0, ehail_fee=None, improvement_surcharge=0.3, total_amount=8.16, payment_type=1, trip_type=1, congestion_surcharge=0.0)]"
      ]
     },
     "execution_count": 6,
     "metadata": {},
     "output_type": "execute_result"
    }
   ],
   "source": [
    "df_green.rdd.take(2)"
   ]
  },
  {
   "cell_type": "code",
   "execution_count": 8,
   "metadata": {},
   "outputs": [],
   "source": [
    "rdd = df_green \\\n",
    "    .select(\"lpep_pickup_datetime\",\"PULocationID\",\"total_amount\") \\\n",
    "    .rdd"
   ]
  },
  {
   "cell_type": "code",
   "execution_count": 9,
   "metadata": {},
   "outputs": [
    {
     "data": {
      "text/plain": [
       "[Row(lpep_pickup_datetime=datetime.datetime(2020, 1, 3, 19, 0, 1), PULocationID=244, total_amount=8.8),\n",
       " Row(lpep_pickup_datetime=datetime.datetime(2020, 1, 29, 19, 55, 1), PULocationID=166, total_amount=8.16)]"
      ]
     },
     "execution_count": 9,
     "metadata": {},
     "output_type": "execute_result"
    }
   ],
   "source": [
    "rdd.take(2)"
   ]
  },
  {
   "cell_type": "code",
   "execution_count": 11,
   "metadata": {},
   "outputs": [],
   "source": [
    "from datetime import datetime"
   ]
  },
  {
   "cell_type": "code",
   "execution_count": 18,
   "metadata": {},
   "outputs": [],
   "source": [
    "start = datetime(year=2020, month=1, day=1)\n",
    "def filter_outliers(row):\n",
    "    return row.lpep_pickup_datetime < start"
   ]
  },
  {
   "cell_type": "code",
   "execution_count": 27,
   "metadata": {},
   "outputs": [],
   "source": [
    "def prepare_for_grouping(row):\n",
    "    hour = row.lpep_pickup_datetime.replace(minute=0, second=0, microsecond=0)\n",
    "    zone = row.PULocationID\n",
    "    key = (hour, zone)\n",
    "\n",
    "    amount = row.total_amount\n",
    "    count = 1\n",
    "    value = (amount, count)\n",
    "\n",
    "    return (key, value)\n"
   ]
  },
  {
   "cell_type": "code",
   "execution_count": 31,
   "metadata": {},
   "outputs": [],
   "source": [
    "def caculate_revenue(left_value, right_value):\n",
    "    left_amount, left_count = left_value\n",
    "    right_amount, right_count = right_value\n",
    "\n",
    "    ouput_amount = left_amount + right_amount\n",
    "    output_count = left_count + right_count\n",
    "\n",
    "    return (ouput_amount, output_count)"
   ]
  },
  {
   "cell_type": "code",
   "execution_count": 34,
   "metadata": {},
   "outputs": [],
   "source": [
    "from collections import namedtuple\n",
    "RevenueRow = namedtuple('RevenueRow', ['hour', 'zone', 'revenue', 'count'])"
   ]
  },
  {
   "cell_type": "code",
   "execution_count": 35,
   "metadata": {},
   "outputs": [],
   "source": [
    "def unwrap(row):\n",
    "    return RevenueRow(hour = row[0][0], \n",
    "                      zone = row[0][1], \n",
    "                      revenue = row[1][0],\n",
    "                      count = row[1][1])"
   ]
  },
  {
   "cell_type": "code",
   "execution_count": 36,
   "metadata": {},
   "outputs": [
    {
     "data": {
      "text/plain": [
       "[RevenueRow(hour=datetime.datetime(2009, 1, 1, 0, 0), zone=75, revenue=98.39999999999999, count=2),\n",
       " RevenueRow(hour=datetime.datetime(2010, 9, 23, 0, 0), zone=95, revenue=38.56, count=3),\n",
       " RevenueRow(hour=datetime.datetime(2019, 12, 18, 15, 0), zone=264, revenue=4.81, count=1),\n",
       " RevenueRow(hour=datetime.datetime(2009, 1, 1, 0, 0), zone=193, revenue=12.350000000000001, count=9),\n",
       " RevenueRow(hour=datetime.datetime(2010, 9, 23, 0, 0), zone=257, revenue=45.3, count=1),\n",
       " RevenueRow(hour=datetime.datetime(2009, 1, 1, 0, 0), zone=264, revenue=0.0, count=1),\n",
       " RevenueRow(hour=datetime.datetime(2009, 1, 1, 0, 0), zone=42, revenue=8.3, count=1),\n",
       " RevenueRow(hour=datetime.datetime(2009, 1, 1, 1, 0), zone=264, revenue=0.0, count=1),\n",
       " RevenueRow(hour=datetime.datetime(2009, 1, 1, 1, 0), zone=75, revenue=6.3, count=1),\n",
       " RevenueRow(hour=datetime.datetime(2009, 1, 1, 7, 0), zone=130, revenue=10.3, count=1)]"
      ]
     },
     "execution_count": 36,
     "metadata": {},
     "output_type": "execute_result"
    }
   ],
   "source": [
    "rdd \\\n",
    "    .filter(filter_outliers) \\\n",
    "    .map(prepare_for_grouping) \\\n",
    "    .reduceByKey(caculate_revenue) \\\n",
    "    .map(unwrap) \\\n",
    "    .take(10)"
   ]
  },
  {
   "cell_type": "code",
   "execution_count": 42,
   "metadata": {},
   "outputs": [],
   "source": [
    "from pyspark.sql import types"
   ]
  },
  {
   "cell_type": "code",
   "execution_count": 43,
   "metadata": {},
   "outputs": [],
   "source": [
    "schema = types.StructType([\n",
    "            types.StructField('hour', types.TimestampType(), True), \n",
    "            types.StructField('zone', types.LongType(), True), \n",
    "            types.StructField('revenue', types.DoubleType(), True), \n",
    "            types.StructField('count', types.LongType(), True)\n",
    "            ])"
   ]
  },
  {
   "cell_type": "code",
   "execution_count": 44,
   "metadata": {},
   "outputs": [],
   "source": [
    "df_result = rdd \\\n",
    "    .filter(filter_outliers) \\\n",
    "    .map(prepare_for_grouping) \\\n",
    "    .reduceByKey(caculate_revenue) \\\n",
    "    .map(unwrap) \\\n",
    "    .toDF(schema)"
   ]
  },
  {
   "cell_type": "code",
   "execution_count": 46,
   "metadata": {},
   "outputs": [
    {
     "name": "stdout",
     "output_type": "stream",
     "text": [
      "+-------------------+----+------------------+-----+\n",
      "|               hour|zone|           revenue|count|\n",
      "+-------------------+----+------------------+-----+\n",
      "|2009-01-01 00:00:00|  75| 98.39999999999999|    2|\n",
      "|2010-09-23 00:00:00|  95|             38.56|    3|\n",
      "|2019-12-18 15:00:00| 264|              4.81|    1|\n",
      "|2009-01-01 00:00:00| 193|12.350000000000001|    9|\n",
      "|2010-09-23 00:00:00| 257|              45.3|    1|\n",
      "|2009-01-01 00:00:00| 264|               0.0|    1|\n",
      "|2009-01-01 00:00:00|  42|               8.3|    1|\n",
      "|2009-01-01 01:00:00| 264|               0.0|    1|\n",
      "|2009-01-01 01:00:00|  75|               6.3|    1|\n",
      "|2009-01-01 07:00:00| 130|              10.3|    1|\n",
      "|2019-12-31 23:00:00| 116|              6.81|    1|\n",
      "|2009-01-01 00:00:00|  41|21.650000000000002|    3|\n",
      "|2019-12-31 23:00:00| 130|             29.96|    3|\n",
      "|2019-12-31 23:00:00| 179|               7.8|    1|\n",
      "|2009-01-01 01:00:00| 193|               0.0|    2|\n",
      "|2009-01-01 00:00:00| 126|               6.3|    1|\n",
      "|2008-12-31 19:00:00|  74|             18.05|    1|\n",
      "|2009-01-01 11:00:00| 193|               0.0|    1|\n",
      "|2009-01-01 01:00:00| 244|               8.8|    1|\n",
      "|2009-01-01 05:00:00| 130|              21.3|    1|\n",
      "+-------------------+----+------------------+-----+\n",
      "only showing top 20 rows\n",
      "\n"
     ]
    }
   ],
   "source": [
    "df_result.show()"
   ]
  },
  {
   "cell_type": "code",
   "execution_count": 47,
   "metadata": {},
   "outputs": [],
   "source": [
    "df_result.write.parquet('data/report/rdd_report_green')"
   ]
  },
  {
   "cell_type": "markdown",
   "metadata": {},
   "source": [
    "# MAP PARTITION"
   ]
  },
  {
   "cell_type": "code",
   "execution_count": 7,
   "metadata": {},
   "outputs": [],
   "source": [
    "columns = [\"VendorID\", \"lpep_pickup_datetime\", \"lpep_dropoff_datetime\", \"PULocationID\", \"DOLocationID\", \"trip_distance\"]\n",
    "duration_rdd = df_green \\\n",
    "                .select(columns) \\\n",
    "                .rdd"
   ]
  },
  {
   "cell_type": "code",
   "execution_count": 16,
   "metadata": {},
   "outputs": [],
   "source": [
    "import pandas as pd"
   ]
  },
  {
   "cell_type": "code",
   "execution_count": 17,
   "metadata": {},
   "outputs": [],
   "source": [
    "rows = duration_rdd.take(10)"
   ]
  },
  {
   "cell_type": "code",
   "execution_count": 18,
   "metadata": {},
   "outputs": [
    {
     "data": {
      "text/html": [
       "<div>\n",
       "<style scoped>\n",
       "    .dataframe tbody tr th:only-of-type {\n",
       "        vertical-align: middle;\n",
       "    }\n",
       "\n",
       "    .dataframe tbody tr th {\n",
       "        vertical-align: top;\n",
       "    }\n",
       "\n",
       "    .dataframe thead th {\n",
       "        text-align: right;\n",
       "    }\n",
       "</style>\n",
       "<table border=\"1\" class=\"dataframe\">\n",
       "  <thead>\n",
       "    <tr style=\"text-align: right;\">\n",
       "      <th></th>\n",
       "      <th>VendorID</th>\n",
       "      <th>lpep_pickup_datetime</th>\n",
       "      <th>lpep_dropoff_datetime</th>\n",
       "      <th>PULocationID</th>\n",
       "      <th>DOLocationID</th>\n",
       "      <th>trip_distance</th>\n",
       "    </tr>\n",
       "  </thead>\n",
       "  <tbody>\n",
       "    <tr>\n",
       "      <th>0</th>\n",
       "      <td>1</td>\n",
       "      <td>2020-01-03 19:00:01</td>\n",
       "      <td>2020-01-03 19:05:48</td>\n",
       "      <td>244</td>\n",
       "      <td>116</td>\n",
       "      <td>1.00</td>\n",
       "    </tr>\n",
       "    <tr>\n",
       "      <th>1</th>\n",
       "      <td>2</td>\n",
       "      <td>2020-01-29 19:55:01</td>\n",
       "      <td>2020-01-29 19:59:12</td>\n",
       "      <td>166</td>\n",
       "      <td>24</td>\n",
       "      <td>0.82</td>\n",
       "    </tr>\n",
       "    <tr>\n",
       "      <th>2</th>\n",
       "      <td>1</td>\n",
       "      <td>2020-01-02 10:20:42</td>\n",
       "      <td>2020-01-02 10:21:07</td>\n",
       "      <td>145</td>\n",
       "      <td>145</td>\n",
       "      <td>0.00</td>\n",
       "    </tr>\n",
       "    <tr>\n",
       "      <th>3</th>\n",
       "      <td>2</td>\n",
       "      <td>2020-01-07 08:30:00</td>\n",
       "      <td>2020-01-07 08:44:00</td>\n",
       "      <td>191</td>\n",
       "      <td>131</td>\n",
       "      <td>3.06</td>\n",
       "    </tr>\n",
       "    <tr>\n",
       "      <th>4</th>\n",
       "      <td>2</td>\n",
       "      <td>2020-01-09 17:40:00</td>\n",
       "      <td>2020-01-09 18:28:00</td>\n",
       "      <td>112</td>\n",
       "      <td>72</td>\n",
       "      <td>6.62</td>\n",
       "    </tr>\n",
       "    <tr>\n",
       "      <th>5</th>\n",
       "      <td>2</td>\n",
       "      <td>2020-01-07 17:48:13</td>\n",
       "      <td>2020-01-07 18:00:44</td>\n",
       "      <td>41</td>\n",
       "      <td>151</td>\n",
       "      <td>1.56</td>\n",
       "    </tr>\n",
       "    <tr>\n",
       "      <th>6</th>\n",
       "      <td>2</td>\n",
       "      <td>2020-01-11 10:09:00</td>\n",
       "      <td>2020-01-11 10:18:00</td>\n",
       "      <td>77</td>\n",
       "      <td>76</td>\n",
       "      <td>1.32</td>\n",
       "    </tr>\n",
       "    <tr>\n",
       "      <th>7</th>\n",
       "      <td>2</td>\n",
       "      <td>2020-01-24 21:25:12</td>\n",
       "      <td>2020-01-24 21:27:41</td>\n",
       "      <td>42</td>\n",
       "      <td>42</td>\n",
       "      <td>0.74</td>\n",
       "    </tr>\n",
       "    <tr>\n",
       "      <th>8</th>\n",
       "      <td>2</td>\n",
       "      <td>2020-01-04 17:06:40</td>\n",
       "      <td>2020-01-04 17:23:26</td>\n",
       "      <td>82</td>\n",
       "      <td>223</td>\n",
       "      <td>4.34</td>\n",
       "    </tr>\n",
       "    <tr>\n",
       "      <th>9</th>\n",
       "      <td>2</td>\n",
       "      <td>2020-01-26 15:07:00</td>\n",
       "      <td>2020-01-26 15:23:00</td>\n",
       "      <td>41</td>\n",
       "      <td>127</td>\n",
       "      <td>4.17</td>\n",
       "    </tr>\n",
       "  </tbody>\n",
       "</table>\n",
       "</div>"
      ],
      "text/plain": [
       "   VendorID lpep_pickup_datetime lpep_dropoff_datetime  PULocationID  \\\n",
       "0         1  2020-01-03 19:00:01   2020-01-03 19:05:48           244   \n",
       "1         2  2020-01-29 19:55:01   2020-01-29 19:59:12           166   \n",
       "2         1  2020-01-02 10:20:42   2020-01-02 10:21:07           145   \n",
       "3         2  2020-01-07 08:30:00   2020-01-07 08:44:00           191   \n",
       "4         2  2020-01-09 17:40:00   2020-01-09 18:28:00           112   \n",
       "5         2  2020-01-07 17:48:13   2020-01-07 18:00:44            41   \n",
       "6         2  2020-01-11 10:09:00   2020-01-11 10:18:00            77   \n",
       "7         2  2020-01-24 21:25:12   2020-01-24 21:27:41            42   \n",
       "8         2  2020-01-04 17:06:40   2020-01-04 17:23:26            82   \n",
       "9         2  2020-01-26 15:07:00   2020-01-26 15:23:00            41   \n",
       "\n",
       "   DOLocationID  trip_distance  \n",
       "0           116           1.00  \n",
       "1            24           0.82  \n",
       "2           145           0.00  \n",
       "3           131           3.06  \n",
       "4            72           6.62  \n",
       "5           151           1.56  \n",
       "6            76           1.32  \n",
       "7            42           0.74  \n",
       "8           223           4.34  \n",
       "9           127           4.17  "
      ]
     },
     "execution_count": 18,
     "metadata": {},
     "output_type": "execute_result"
    }
   ],
   "source": [
    "pd.DataFrame(rows, columns=columns)"
   ]
  },
  {
   "cell_type": "code",
   "execution_count": 22,
   "metadata": {},
   "outputs": [],
   "source": [
    "model = \"...\"\n",
    "\n",
    "def model_predict(df):\n",
    "    # y_pred = model.predict(df)\n",
    "    y_pred = df.trip_distance*5\n",
    "    return y_pred"
   ]
  },
  {
   "cell_type": "code",
   "execution_count": 29,
   "metadata": {},
   "outputs": [],
   "source": [
    "def apply_model_in_batch(partition):\n",
    "    # cnt = 0\n",
    "    # for row in partition:\n",
    "    #     cnt +=1\n",
    "\n",
    "    # cnt = len(df)\n",
    "\n",
    "    # return [cnt]\n",
    "    df = pd.DataFrame(partition, columns=columns)\n",
    "\n",
    "    predictions = model_predict(df)\n",
    "    df['predicted_duration'] = predictions\n",
    "\n",
    "    for row in df.itertuples():\n",
    "        yield row\n",
    "\n",
    " "
   ]
  },
  {
   "cell_type": "code",
   "execution_count": 33,
   "metadata": {},
   "outputs": [
    {
     "data": {
      "text/plain": [
       "[Pandas(Index=0, VendorID=1, lpep_pickup_datetime=Timestamp('2020-01-03 19:00:01'), lpep_dropoff_datetime=Timestamp('2020-01-03 19:05:48'), PULocationID=244, DOLocationID=116, trip_distance=1.0, predicted_duration=5.0),\n",
       " Pandas(Index=1, VendorID=2, lpep_pickup_datetime=Timestamp('2020-01-29 19:55:01'), lpep_dropoff_datetime=Timestamp('2020-01-29 19:59:12'), PULocationID=166, DOLocationID=24, trip_distance=0.82, predicted_duration=4.1),\n",
       " Pandas(Index=2, VendorID=1, lpep_pickup_datetime=Timestamp('2020-01-02 10:20:42'), lpep_dropoff_datetime=Timestamp('2020-01-02 10:21:07'), PULocationID=145, DOLocationID=145, trip_distance=0.0, predicted_duration=0.0),\n",
       " Pandas(Index=3, VendorID=2, lpep_pickup_datetime=Timestamp('2020-01-07 08:30:00'), lpep_dropoff_datetime=Timestamp('2020-01-07 08:44:00'), PULocationID=191, DOLocationID=131, trip_distance=3.06, predicted_duration=15.3),\n",
       " Pandas(Index=4, VendorID=2, lpep_pickup_datetime=Timestamp('2020-01-09 17:40:00'), lpep_dropoff_datetime=Timestamp('2020-01-09 18:28:00'), PULocationID=112, DOLocationID=72, trip_distance=6.62, predicted_duration=33.1)]"
      ]
     },
     "execution_count": 33,
     "metadata": {},
     "output_type": "execute_result"
    }
   ],
   "source": [
    "duration_rdd \\\n",
    "            .mapPartitions(apply_model_in_batch) \\\n",
    "            .take(5)"
   ]
  },
  {
   "cell_type": "code",
   "execution_count": 31,
   "metadata": {},
   "outputs": [],
   "source": [
    "df_predicts = duration_rdd \\\n",
    "                .mapPartitions(apply_model_in_batch) \\\n",
    "                .toDF() \\\n",
    "                .drop(\"Index\")"
   ]
  },
  {
   "cell_type": "code",
   "execution_count": 32,
   "metadata": {},
   "outputs": [
    {
     "name": "stdout",
     "output_type": "stream",
     "text": [
      "+--------+--------------------+---------------------+------------+------------+-------------+------------------+\n",
      "|VendorID|lpep_pickup_datetime|lpep_dropoff_datetime|PULocationID|DOLocationID|trip_distance|predicted_duration|\n",
      "+--------+--------------------+---------------------+------------+------------+-------------+------------------+\n",
      "|       1|                  {}|                   {}|         244|         116|          1.0|               5.0|\n",
      "|       2|                  {}|                   {}|         166|          24|         0.82|               4.1|\n",
      "|       1|                  {}|                   {}|         145|         145|          0.0|               0.0|\n",
      "|       2|                  {}|                   {}|         191|         131|         3.06|              15.3|\n",
      "|       2|                  {}|                   {}|         112|          72|         6.62|              33.1|\n",
      "|       2|                  {}|                   {}|          41|         151|         1.56| 7.800000000000001|\n",
      "|       2|                  {}|                   {}|          77|          76|         1.32|6.6000000000000005|\n",
      "|       2|                  {}|                   {}|          42|          42|         0.74|               3.7|\n",
      "|       2|                  {}|                   {}|          82|         223|         4.34|              21.7|\n",
      "|       2|                  {}|                   {}|          41|         127|         4.17|             20.85|\n",
      "|       2|                  {}|                   {}|         122|         129|        11.96|59.800000000000004|\n",
      "|       2|                  {}|                   {}|         153|          20|         2.95|             14.75|\n",
      "|       2|                  {}|                   {}|         236|         140|         1.66| 8.299999999999999|\n",
      "|       2|                  {}|                   {}|         129|          82|         0.65|              3.25|\n",
      "|       2|                  {}|                   {}|          95|         135|         1.76|               8.8|\n",
      "|       2|                  {}|                   {}|          65|         225|         2.89|14.450000000000001|\n",
      "|       2|                  {}|                   {}|         260|         157|         2.26|11.299999999999999|\n",
      "|       2|                  {}|                   {}|          19|         228|        30.12|             150.6|\n",
      "|       2|                  {}|                   {}|          25|          33|         0.85|              4.25|\n",
      "|       2|                  {}|                   {}|         166|         236|          3.5|              17.5|\n",
      "+--------+--------------------+---------------------+------------+------------+-------------+------------------+\n",
      "only showing top 20 rows\n",
      "\n"
     ]
    }
   ],
   "source": [
    "df_predicts.show()"
   ]
  }
 ],
 "metadata": {
  "kernelspec": {
   "display_name": "dev",
   "language": "python",
   "name": "python3"
  },
  "language_info": {
   "codemirror_mode": {
    "name": "ipython",
    "version": 3
   },
   "file_extension": ".py",
   "mimetype": "text/x-python",
   "name": "python",
   "nbconvert_exporter": "python",
   "pygments_lexer": "ipython3",
   "version": "3.8.17"
  }
 },
 "nbformat": 4,
 "nbformat_minor": 2
}
