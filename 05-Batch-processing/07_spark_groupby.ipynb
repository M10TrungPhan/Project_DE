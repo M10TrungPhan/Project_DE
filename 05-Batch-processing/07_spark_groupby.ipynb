{
 "cells": [
  {
   "cell_type": "code",
   "execution_count": 1,
   "metadata": {},
   "outputs": [],
   "source": [
    "import pyspark\n",
    "from pyspark.sql import SparkSession\n",
    "from pyspark.sql.functions import col"
   ]
  },
  {
   "cell_type": "code",
   "execution_count": 2,
   "metadata": {},
   "outputs": [],
   "source": [
    "spark = SparkSession.builder \\\n",
    "    .master(\"local[*]\") \\\n",
    "    .appName('test') \\\n",
    "    .getOrCreate()\n"
   ]
  },
  {
   "cell_type": "code",
   "execution_count": 3,
   "metadata": {},
   "outputs": [],
   "source": [
    "df_green = spark.read.parquet('data/pq/green/*/*/')"
   ]
  },
  {
   "cell_type": "code",
   "execution_count": 4,
   "metadata": {},
   "outputs": [
    {
     "name": "stderr",
     "output_type": "stream",
     "text": [
      "c:\\Users\\Windows\\anaconda3\\envs\\dev\\lib\\site-packages\\pyspark\\sql\\dataframe.py:330: FutureWarning: Deprecated in 2.0, use createOrReplaceTempView instead.\n",
      "  warnings.warn(\"Deprecated in 2.0, use createOrReplaceTempView instead.\", FutureWarning)\n"
     ]
    }
   ],
   "source": [
    "df_green.registerTempTable('green')"
   ]
  },
  {
   "cell_type": "code",
   "execution_count": 29,
   "metadata": {},
   "outputs": [],
   "source": [
    "df_green_revenue = spark.sql(\"\"\"\n",
    "SELECT\n",
    "    -- Reveneue grouping \n",
    "    date_trunc(\"hour\", \"pickup_datetime\") AS revenue_month, \n",
    "    PULocationID AS zone,\n",
    "                      \n",
    "    SUM(total_amount) AS revenue_monthly_total_amount,\n",
    "    COUNT(1) as number_records\n",
    "FROM green\n",
    "\n",
    "WHERE lpep_pickup_datetime >='2020-01-01 00:00:00'\n",
    "GROUP BY 1,2\n",
    "ORDER BY 1,2\n",
    "\"\"\")"
   ]
  },
  {
   "cell_type": "code",
   "execution_count": 30,
   "metadata": {},
   "outputs": [
    {
     "name": "stdout",
     "output_type": "stream",
     "text": [
      "+-------------+----+----------------------------+--------------+\n",
      "|revenue_month|zone|revenue_monthly_total_amount|number_records|\n",
      "+-------------+----+----------------------------+--------------+\n",
      "|         null|   1|                     4176.16|            44|\n",
      "|         null|   2|          251.65000000000003|             5|\n",
      "|         null|   3|          127511.81999999998|          4232|\n",
      "|         null|   4|          22788.830000000005|           666|\n",
      "|         null|   5|          16156.439999999997|           223|\n",
      "|         null|   6|           6531.390000000002|            94|\n",
      "|         null|   7|          1045829.2199999562|         69053|\n",
      "|         null|   8|          2375.4000000000005|            83|\n",
      "|         null|   9|                    68754.06|          2327|\n",
      "|         null|  10|          247243.94999999955|          7019|\n",
      "|         null|  11|           76260.66999999998|          2615|\n",
      "|         null|  12|                      347.37|             9|\n",
      "|         null|  13|           6506.189999999999|           145|\n",
      "|         null|  14|           388305.2799999994|         11291|\n",
      "|         null|  15|           38291.50000000001|          1052|\n",
      "|         null|  16|           81481.52000000003|          2282|\n",
      "|         null|  17|          442414.64999999997|         18756|\n",
      "|         null|  18|           246154.3799999996|          8075|\n",
      "|         null|  19|           79030.15000000007|          1886|\n",
      "|         null|  20|          117295.22000000007|          4427|\n",
      "+-------------+----+----------------------------+--------------+\n",
      "only showing top 20 rows\n",
      "\n"
     ]
    }
   ],
   "source": [
    "df_green_revenue.show()"
   ]
  },
  {
   "cell_type": "code",
   "execution_count": 33,
   "metadata": {},
   "outputs": [],
   "source": [
    "df_green_revenue.repartition(10).write.parquet('data/report/revenue_green', mode=\"overwrite\")"
   ]
  },
  {
   "cell_type": "code",
   "execution_count": null,
   "metadata": {},
   "outputs": [],
   "source": []
  }
 ],
 "metadata": {
  "kernelspec": {
   "display_name": "dev",
   "language": "python",
   "name": "python3"
  },
  "language_info": {
   "codemirror_mode": {
    "name": "ipython",
    "version": 3
   },
   "file_extension": ".py",
   "mimetype": "text/x-python",
   "name": "python",
   "nbconvert_exporter": "python",
   "pygments_lexer": "ipython3",
   "version": "3.8.17"
  }
 },
 "nbformat": 4,
 "nbformat_minor": 2
}
