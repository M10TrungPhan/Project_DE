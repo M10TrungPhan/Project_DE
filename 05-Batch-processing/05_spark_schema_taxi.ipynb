{
 "cells": [
  {
   "cell_type": "code",
   "execution_count": 16,
   "metadata": {},
   "outputs": [],
   "source": [
    "import pyspark\n",
    "from pyspark.sql import SparkSession\n",
    "from pyspark.sql.functions import col"
   ]
  },
  {
   "cell_type": "code",
   "execution_count": 2,
   "metadata": {},
   "outputs": [],
   "source": [
    "spark = SparkSession.builder \\\n",
    "    .master(\"local[*]\") \\\n",
    "    .appName('test') \\\n",
    "    .getOrCreate()\n"
   ]
  },
  {
   "cell_type": "code",
   "execution_count": 3,
   "metadata": {},
   "outputs": [],
   "source": [
    "import pandas as pd\n"
   ]
  },
  {
   "cell_type": "code",
   "execution_count": 4,
   "metadata": {},
   "outputs": [],
   "source": [
    "from pyspark.sql import types\n"
   ]
  },
  {
   "cell_type": "code",
   "execution_count": 6,
   "metadata": {},
   "outputs": [],
   "source": [
    "green_schema = types.StructType([\n",
    "    types.StructField(\"VendorID\", types.IntegerType(), True),\n",
    "    types.StructField(\"lpep_pickup_datetime\", types.TimestampType(), True),\n",
    "    types.StructField(\"lpep_dropoff_datetime\", types.TimestampType(), True),\n",
    "    types.StructField(\"store_and_fwd_flag\", types.StringType(), True),\n",
    "    types.StructField(\"RatecodeID\", types.IntegerType(), True),\n",
    "    types.StructField(\"PULocationID\", types.IntegerType(), True),\n",
    "    types.StructField(\"DOLocationID\", types.IntegerType(), True),\n",
    "    types.StructField(\"passenger_count\", types.IntegerType(), True),\n",
    "    types.StructField(\"trip_distance\", types.DoubleType(), True),\n",
    "    types.StructField(\"fare_amount\", types.DoubleType(), True),\n",
    "    types.StructField(\"extra\", types.DoubleType(), True),\n",
    "    types.StructField(\"mta_tax\", types.DoubleType(), True),\n",
    "    types.StructField(\"tip_amount\", types.DoubleType(), True),\n",
    "    types.StructField(\"tolls_amount\", types.DoubleType(), True),\n",
    "    types.StructField(\"ehail_fee\", types.DoubleType(), True),\n",
    "    types.StructField(\"improvement_surcharge\", types.DoubleType(), True),\n",
    "    types.StructField(\"total_amount\", types.DoubleType(), True),\n",
    "    types.StructField(\"payment_type\", types.IntegerType(), True),\n",
    "    types.StructField(\"trip_type\", types.IntegerType(), True),\n",
    "    types.StructField(\"congestion_surcharge\", types.DoubleType(), True)\n",
    "])\n",
    "\n",
    "yellow_schema = types.StructType([\n",
    "    types.StructField(\"VendorID\", types.IntegerType(), True),\n",
    "    types.StructField(\"tpep_pickup_datetime\", types.TimestampType(), True),\n",
    "    types.StructField(\"tpep_dropoff_datetime\", types.TimestampType(), True),\n",
    "    types.StructField(\"passenger_count\", types.IntegerType(), True),\n",
    "    types.StructField(\"trip_distance\", types.DoubleType(), True),\n",
    "    types.StructField(\"RatecodeID\", types.IntegerType(), True),\n",
    "    types.StructField(\"store_and_fwd_flag\", types.StringType(), True),\n",
    "    types.StructField(\"PULocationID\", types.IntegerType(), True),\n",
    "    types.StructField(\"DOLocationID\", types.IntegerType(), True),\n",
    "    types.StructField(\"payment_type\", types.IntegerType(), True),\n",
    "    types.StructField(\"fare_amount\", types.DoubleType(), True),\n",
    "    types.StructField(\"extra\", types.DoubleType(), True),\n",
    "    types.StructField(\"mta_tax\", types.DoubleType(), True),\n",
    "    types.StructField(\"tip_amount\", types.DoubleType(), True),\n",
    "    types.StructField(\"tolls_amount\", types.DoubleType(), True),\n",
    "    types.StructField(\"improvement_surcharge\", types.DoubleType(), True),\n",
    "    types.StructField(\"total_amount\", types.DoubleType(), True),\n",
    "    types.StructField(\"congestion_surcharge\", types.DoubleType(), True)\n",
    "])"
   ]
  },
  {
   "cell_type": "code",
   "execution_count": 37,
   "metadata": {},
   "outputs": [
    {
     "name": "stdout",
     "output_type": "stream",
     "text": [
      "processing data for 2021/1\n",
      "processing data for 2021/2\n",
      "processing data for 2021/3\n",
      "processing data for 2021/4\n",
      "processing data for 2021/5\n",
      "processing data for 2021/6\n",
      "processing data for 2021/7\n",
      "processing data for 2021/8\n",
      "processing data for 2021/9\n",
      "processing data for 2021/10\n",
      "processing data for 2021/11\n",
      "processing data for 2021/12\n"
     ]
    }
   ],
   "source": [
    "year = 2021\n",
    "\n",
    "for month in range(1, 13):\n",
    "    print(f'processing data for {year}/{month}')\n",
    "\n",
    "    input_path = f'data/raw/green/{year}/{month:02d}/'\n",
    "    output_path = f'data/pq/green/{year}/{month:02d}/'\n",
    "\n",
    "    df_green = spark.read \\\n",
    "        .option(\"header\", \"true\") \\\n",
    "        .parquet(input_path)\n",
    "    \n",
    "    df_green = df_green.withColumn('VendorID', col('VendorID').cast(types.IntegerType())\n",
    "    ).withColumn('lpep_pickup_datetime', col('lpep_pickup_datetime').cast(types.TimestampType())\n",
    "    ).withColumn('lpep_dropoff_datetime', col('lpep_dropoff_datetime').cast(types.TimestampType())\n",
    "    ).withColumn('store_and_fwd_flag', col('store_and_fwd_flag').cast(types.StringType())\n",
    "    ).withColumn('RatecodeID', col('RatecodeID').cast(types.IntegerType())\n",
    "    ).withColumn('PULocationID', col('PULocationID').cast(types.IntegerType())\n",
    "    ).withColumn('DOLocationID', col('DOLocationID').cast(types.IntegerType())\n",
    "    ).withColumn('passenger_count', col('passenger_count').cast(types.IntegerType())\n",
    "    ).withColumn('trip_distance', col('trip_distance').cast(types.DoubleType())             \n",
    "    ).withColumn('fare_amount', col('fare_amount').cast(types.DoubleType())\n",
    "    ).withColumn('extra', col('extra').cast(types.DoubleType())\n",
    "    ).withColumn('mta_tax', col('mta_tax').cast(types.DoubleType())\n",
    "    ).withColumn('tip_amount', col('tip_amount').cast(types.DoubleType())\n",
    "    ).withColumn('tolls_amount', col('tolls_amount').cast(types.DoubleType())\n",
    "    ).withColumn('ehail_fee', col('ehail_fee').cast(types.DoubleType())\n",
    "    ).withColumn('improvement_surcharge', col('improvement_surcharge').cast(types.DoubleType())\n",
    "    ).withColumn('total_amount', col('total_amount').cast(types.DoubleType())\n",
    "    ).withColumn('payment_type', col('payment_type').cast(types.IntegerType())\n",
    "    ).withColumn('trip_type', col('trip_type').cast(types.IntegerType())\n",
    "    ).withColumn('congestion_surcharge', col('congestion_surcharge').cast(types.DoubleType())\n",
    "    )\n",
    "        # .schema(green_schema) \\\n",
    "        # .parquet(input_path)\n",
    "    \n",
    "\n",
    "    df_green \\\n",
    "        .repartition(4) \\\n",
    "        .write.parquet(output_path, mode='overwrite')"
   ]
  },
  {
   "cell_type": "code",
   "execution_count": 46,
   "metadata": {},
   "outputs": [
    {
     "name": "stdout",
     "output_type": "stream",
     "text": [
      "processing data for 2020/1\n",
      "processing data for 2020/2\n",
      "processing data for 2020/3\n",
      "processing data for 2020/4\n",
      "processing data for 2020/5\n",
      "processing data for 2020/6\n",
      "processing data for 2020/7\n",
      "processing data for 2020/8\n",
      "processing data for 2020/9\n",
      "processing data for 2020/10\n",
      "processing data for 2020/11\n",
      "processing data for 2020/12\n"
     ]
    }
   ],
   "source": [
    "year = 2020\n",
    "\n",
    "for month in range(1, 13):\n",
    "    print(f'processing data for {year}/{month}')\n",
    "\n",
    "    input_path = f'data/raw/yellow/{year}/{month:02d}/'\n",
    "    output_path = f'data/pq/yellow/{year}/{month:02d}/'\n",
    "\n",
    "    df_yellow = spark.read \\\n",
    "        .option(\"header\", \"true\") \\\n",
    "        .parquet(input_path)\n",
    "    \n",
    "    df_yellow = df_yellow.withColumn('VendorID', col('VendorID').cast(types.IntegerType())\n",
    "    ).withColumn('tpep_pickup_datetime', col('tpep_pickup_datetime').cast(types.TimestampType())\n",
    "    ).withColumn('tpep_dropoff_datetime', col('tpep_dropoff_datetime').cast(types.TimestampType())\n",
    "    ).withColumn('store_and_fwd_flag', col('store_and_fwd_flag').cast(types.StringType())\n",
    "    ).withColumn('RatecodeID', col('RatecodeID').cast(types.IntegerType())\n",
    "    ).withColumn('PULocationID', col('PULocationID').cast(types.IntegerType())\n",
    "    ).withColumn('DOLocationID', col('DOLocationID').cast(types.IntegerType())\n",
    "    ).withColumn('passenger_count', col('passenger_count').cast(types.IntegerType())\n",
    "    ).withColumn('trip_distance', col('trip_distance').cast(types.DoubleType())             \n",
    "    ).withColumn('fare_amount', col('fare_amount').cast(types.DoubleType())\n",
    "    ).withColumn('extra', col('extra').cast(types.DoubleType())\n",
    "    ).withColumn('mta_tax', col('mta_tax').cast(types.DoubleType())\n",
    "    ).withColumn('tip_amount', col('tip_amount').cast(types.DoubleType())\n",
    "    ).withColumn('tolls_amount', col('tolls_amount').cast(types.DoubleType())\n",
    "    ).withColumn('improvement_surcharge', col('improvement_surcharge').cast(types.DoubleType())\n",
    "    ).withColumn('total_amount', col('total_amount').cast(types.DoubleType())\n",
    "    ).withColumn('payment_type', col('payment_type').cast(types.IntegerType())\n",
    "    ).withColumn('congestion_surcharge', col('congestion_surcharge').cast(types.DoubleType())\n",
    "    )\n",
    "\n",
    "    df_yellow \\\n",
    "        .repartition(4) \\\n",
    "        .write.parquet(output_path, mode='overwrite')"
   ]
  },
  {
   "cell_type": "code",
   "execution_count": null,
   "metadata": {},
   "outputs": [],
   "source": []
  }
 ],
 "metadata": {
  "kernelspec": {
   "display_name": "dev",
   "language": "python",
   "name": "python3"
  },
  "language_info": {
   "codemirror_mode": {
    "name": "ipython",
    "version": 3
   },
   "file_extension": ".py",
   "mimetype": "text/x-python",
   "name": "python",
   "nbconvert_exporter": "python",
   "pygments_lexer": "ipython3",
   "version": "3.8.17"
  }
 },
 "nbformat": 4,
 "nbformat_minor": 2
}
