{
 "cells": [
  {
   "cell_type": "code",
   "execution_count": 1,
   "metadata": {},
   "outputs": [],
   "source": [
    "import pyspark\n",
    "from pyspark.sql import SparkSession\n",
    "from pyspark.conf import SparkConf\n",
    "from pyspark.context import SparkContext"
   ]
  },
  {
   "cell_type": "markdown",
   "metadata": {},
   "source": [
    "# CONNECT SPARK WITH GOOGLE CLOUD STORAGE"
   ]
  },
  {
   "cell_type": "code",
   "execution_count": 3,
   "metadata": {},
   "outputs": [],
   "source": [
    "\n",
    "credentials_location = 'D:/coding/project/project_study/Project_DE/keys/my_cred.json'\n",
    "\n",
    "conf = SparkConf() \\\n",
    "    .setMaster('local[*]') \\\n",
    "    .setAppName('test') \\\n",
    "    .set(\"spark.jars\", \"./lib/gcs-connector-hadoop3-2.2.5.jar\") \\\n",
    "    .set(\"spark.hadoop.google.cloud.auth.service.account.enable\", \"true\") \\\n",
    "    .set(\"spark.hadoop.google.cloud.auth.service.account.json.keyfile\", credentials_location)\n",
    "\n",
    "\n",
    "# spark = SparkSession.builder \\\n",
    "#     .master(\"local[*]\") \\\n",
    "#     .appName('test') \\\n",
    "#     .getOrCreate()"
   ]
  },
  {
   "cell_type": "code",
   "execution_count": 4,
   "metadata": {},
   "outputs": [],
   "source": [
    "sc = SparkContext(conf=conf)\n",
    "\n",
    "hadoop_conf = sc._jsc.hadoopConfiguration()\n",
    "\n",
    "hadoop_conf.set(\"fs.AbstractFileSystem.gs.impl\",  \"com.google.cloud.hadoop.fs.gcs.GoogleHadoopFS\")\n",
    "hadoop_conf.set(\"fs.gs.impl\", \"com.google.cloud.hadoop.fs.gcs.GoogleHadoopFileSystem\")\n",
    "hadoop_conf.set(\"fs.gs.auth.service.account.json.keyfile\", credentials_location)\n",
    "hadoop_conf.set(\"fs.gs.auth.service.account.enable\", \"true\")"
   ]
  },
  {
   "cell_type": "code",
   "execution_count": 6,
   "metadata": {},
   "outputs": [],
   "source": [
    "spark = SparkSession.builder \\\n",
    "    .config(conf=sc.getConf()) \\\n",
    "    .getOrCreate()"
   ]
  },
  {
   "cell_type": "code",
   "execution_count": 8,
   "metadata": {},
   "outputs": [],
   "source": [
    "df_green = spark.read.parquet('gs://dtc_data_lake_de_pnt/pq/green/*/*/')"
   ]
  },
  {
   "cell_type": "code",
   "execution_count": 9,
   "metadata": {},
   "outputs": [
    {
     "data": {
      "text/plain": [
       "2802931"
      ]
     },
     "execution_count": 9,
     "metadata": {},
     "output_type": "execute_result"
    }
   ],
   "source": [
    "df_green.count()"
   ]
  },
  {
   "cell_type": "code",
   "execution_count": 7,
   "metadata": {},
   "outputs": [],
   "source": []
  },
  {
   "cell_type": "code",
   "execution_count": 6,
   "metadata": {},
   "outputs": [],
   "source": [
    "df_yellow = spark.read.parquet('data/pq/yellow/*/*/')"
   ]
  },
  {
   "cell_type": "code",
   "execution_count": 14,
   "metadata": {},
   "outputs": [
    {
     "name": "stdout",
     "output_type": "stream",
     "text": [
      "2802931\n",
      "55553400\n"
     ]
    }
   ],
   "source": [
    "print(df_green.count())\n",
    "print(df_yellow.count())"
   ]
  },
  {
   "cell_type": "code",
   "execution_count": 9,
   "metadata": {},
   "outputs": [],
   "source": [
    "df_green = df_green.withColumnRenamed('lpep_pickup_datetime', 'pickup_datetime') \\\n",
    "                   .withColumnRenamed('lpep_dropoff_datetime', 'dropoff_datetime')"
   ]
  },
  {
   "cell_type": "code",
   "execution_count": 12,
   "metadata": {},
   "outputs": [],
   "source": [
    "df_yellow = df_yellow.withColumnRenamed('tpep_pickup_datetime', 'pickup_datetime') \\\n",
    "                   .withColumnRenamed('tpep_dropoff_datetime', 'dropoff_datetime')"
   ]
  },
  {
   "cell_type": "code",
   "execution_count": 17,
   "metadata": {},
   "outputs": [],
   "source": [
    "comon_columns = []\n",
    "yellow_columns = set(df_yellow.columns)\n",
    "\n",
    "for col in df_green.columns:\n",
    "    if col in yellow_columns:\n",
    "        comon_columns.append(col)"
   ]
  },
  {
   "cell_type": "code",
   "execution_count": 18,
   "metadata": {},
   "outputs": [
    {
     "data": {
      "text/plain": [
       "['VendorID',\n",
       " 'pickup_datetime',\n",
       " 'dropoff_datetime',\n",
       " 'store_and_fwd_flag',\n",
       " 'RatecodeID',\n",
       " 'PULocationID',\n",
       " 'DOLocationID',\n",
       " 'passenger_count',\n",
       " 'trip_distance',\n",
       " 'fare_amount',\n",
       " 'extra',\n",
       " 'mta_tax',\n",
       " 'tip_amount',\n",
       " 'tolls_amount',\n",
       " 'improvement_surcharge',\n",
       " 'total_amount',\n",
       " 'payment_type',\n",
       " 'congestion_surcharge']"
      ]
     },
     "execution_count": 18,
     "metadata": {},
     "output_type": "execute_result"
    }
   ],
   "source": [
    "comon_columns"
   ]
  },
  {
   "cell_type": "code",
   "execution_count": 20,
   "metadata": {},
   "outputs": [
    {
     "name": "stdout",
     "output_type": "stream",
     "text": [
      "+--------+-------------------+-------------------+------------------+----------+------------+------------+---------------+-------------+-----------+-----+-------+----------+------------+---------------------+------------+------------+--------------------+\n",
      "|VendorID|pickup_datetime    |dropoff_datetime   |store_and_fwd_flag|RatecodeID|PULocationID|DOLocationID|passenger_count|trip_distance|fare_amount|extra|mta_tax|tip_amount|tolls_amount|improvement_surcharge|total_amount|payment_type|congestion_surcharge|\n",
      "+--------+-------------------+-------------------+------------------+----------+------------+------------+---------------+-------------+-----------+-----+-------+----------+------------+---------------------+------------+------------+--------------------+\n",
      "|1       |2020-01-03 19:00:01|2020-01-03 19:05:48|N                 |1         |244         |116         |1              |1.0          |6.0        |1.0  |0.5    |1.0       |0.0         |0.3                  |8.8         |1           |0.0                 |\n",
      "|2       |2020-01-29 19:55:01|2020-01-29 19:59:12|N                 |1         |166         |24          |1              |0.82         |5.0        |1.0  |0.5    |1.36      |0.0         |0.3                  |8.16        |1           |0.0                 |\n",
      "|1       |2020-01-02 10:20:42|2020-01-02 10:21:07|N                 |1         |145         |145         |1              |0.0          |2.5        |0.0  |0.5    |0.0       |0.0         |0.3                  |3.3         |2           |0.0                 |\n",
      "|2       |2020-01-07 08:30:00|2020-01-07 08:44:00|null              |null      |191         |131         |null           |3.06         |27.06      |2.75 |0.0    |0.0       |0.0         |0.3                  |30.11       |null        |null                |\n",
      "|2       |2020-01-09 17:40:00|2020-01-09 18:28:00|null              |null      |112         |72          |null           |6.62         |27.11      |2.75 |0.5    |0.0       |0.0         |0.0                  |30.36       |null        |null                |\n",
      "|2       |2020-01-07 17:48:13|2020-01-07 18:00:44|N                 |1         |41          |151         |1              |1.56         |9.5        |1.0  |0.5    |2.03      |0.0         |0.3                  |13.33       |1           |0.0                 |\n",
      "|2       |2020-01-11 10:09:00|2020-01-11 10:18:00|null              |null      |77          |76          |null           |1.32         |8.0        |0.0  |0.5    |0.0       |0.0         |0.3                  |8.8         |null        |null                |\n",
      "|2       |2020-01-24 21:25:12|2020-01-24 21:27:41|N                 |1         |42          |42          |1              |0.74         |4.5        |0.5  |0.5    |1.45      |0.0         |0.3                  |7.25        |1           |0.0                 |\n",
      "|2       |2020-01-04 17:06:40|2020-01-04 17:23:26|N                 |1         |82          |223         |2              |4.34         |15.5       |0.0  |0.5    |3.26      |0.0         |0.3                  |19.56       |1           |0.0                 |\n",
      "|2       |2020-01-26 15:07:00|2020-01-26 15:23:00|null              |null      |41          |127         |null           |4.17         |25.79      |2.75 |0.0    |0.0       |0.0         |0.3                  |28.84       |null        |null                |\n",
      "|2       |2020-01-13 03:52:00|2020-01-13 04:12:00|null              |null      |122         |129         |null           |11.96        |36.62      |2.75 |0.0    |0.0       |0.0         |0.3                  |39.67       |null        |null                |\n",
      "|2       |2020-01-31 09:47:00|2020-01-31 10:03:00|null              |null      |153         |20          |null           |2.95         |22.31      |0.0  |0.0    |0.0       |0.0         |0.3                  |22.61       |null        |null                |\n",
      "|2       |2020-01-03 09:40:04|2020-01-03 09:50:10|N                 |1         |236         |140         |2              |1.66         |9.0        |0.0  |0.5    |1.39      |0.0         |0.3                  |13.94       |1           |2.75                |\n",
      "|2       |2020-01-07 15:20:58|2020-01-07 15:24:46|N                 |1         |129         |82          |1              |0.65         |4.5        |0.0  |0.5    |0.0       |0.0         |0.3                  |5.3         |2           |0.0                 |\n",
      "|2       |2020-01-18 06:50:01|2020-01-18 06:58:04|N                 |1         |95          |135         |1              |1.76         |8.5        |0.0  |0.5    |0.0       |0.0         |0.3                  |9.3         |2           |0.0                 |\n",
      "|2       |2020-01-19 12:41:41|2020-01-19 12:56:31|N                 |1         |65          |225         |1              |2.89         |13.0       |0.0  |0.5    |2.76      |0.0         |0.3                  |16.56       |1           |0.0                 |\n",
      "|2       |2020-01-17 23:01:37|2020-01-17 23:14:31|N                 |1         |260         |157         |1              |2.26         |10.5       |0.5  |0.5    |2.36      |0.0         |0.3                  |14.16       |1           |0.0                 |\n",
      "|2       |2020-01-21 16:18:51|2020-01-21 17:14:03|N                 |1         |19          |228         |1              |30.12        |80.0       |1.0  |0.5    |0.0       |0.0         |0.3                  |81.8        |1           |0.0                 |\n",
      "|2       |2020-01-12 13:38:25|2020-01-12 13:42:52|N                 |1         |25          |33          |1              |0.85         |5.5        |0.0  |0.5    |0.0       |0.0         |0.3                  |6.3         |2           |0.0                 |\n",
      "|2       |2020-01-27 23:39:43|2020-01-27 23:54:21|N                 |1         |166         |236         |1              |3.5          |13.5       |0.5  |0.5    |0.0       |0.0         |0.3                  |17.55       |2           |2.75                |\n",
      "+--------+-------------------+-------------------+------------------+----------+------------+------------+---------------+-------------+-----------+-----+-------+----------+------------+---------------------+------------+------------+--------------------+\n",
      "only showing top 20 rows\n",
      "\n"
     ]
    }
   ],
   "source": [
    "df_green.select(comon_columns).show(20, False)"
   ]
  },
  {
   "cell_type": "code",
   "execution_count": 22,
   "metadata": {},
   "outputs": [],
   "source": [
    "from pyspark.sql import functions as F"
   ]
  },
  {
   "cell_type": "code",
   "execution_count": 33,
   "metadata": {},
   "outputs": [],
   "source": [
    "df_green_sel = df_green \\\n",
    "                .select(comon_columns) \\\n",
    "                .withColumn('service_type', F.lit('green'))"
   ]
  },
  {
   "cell_type": "code",
   "execution_count": 32,
   "metadata": {},
   "outputs": [],
   "source": [
    "df_yellow_sel = df_yellow \\\n",
    "                .select(comon_columns) \\\n",
    "                .withColumn('service_type', F.lit('yellow'))"
   ]
  },
  {
   "cell_type": "code",
   "execution_count": 34,
   "metadata": {},
   "outputs": [],
   "source": [
    "df_trips_data = df_green_sel.unionAll(df_yellow_sel)"
   ]
  },
  {
   "cell_type": "code",
   "execution_count": 35,
   "metadata": {},
   "outputs": [
    {
     "name": "stdout",
     "output_type": "stream",
     "text": [
      "+------------+--------+\n",
      "|service_type|   count|\n",
      "+------------+--------+\n",
      "|       green| 2802931|\n",
      "|      yellow|55553400|\n",
      "+------------+--------+\n",
      "\n"
     ]
    }
   ],
   "source": [
    "df_trips_data.groupBy('service_type').count().show()"
   ]
  },
  {
   "cell_type": "code",
   "execution_count": 44,
   "metadata": {},
   "outputs": [
    {
     "name": "stdout",
     "output_type": "stream",
     "text": [
      "+--------+-------------------+-------------------+------------------+----------+------------+------------+---------------+-------------+-----------+-----+-------+----------+------------+---------------------+------------+------------+--------------------+------------+\n",
      "|VendorID|    pickup_datetime|   dropoff_datetime|store_and_fwd_flag|RatecodeID|PULocationID|DOLocationID|passenger_count|trip_distance|fare_amount|extra|mta_tax|tip_amount|tolls_amount|improvement_surcharge|total_amount|payment_type|congestion_surcharge|service_type|\n",
      "+--------+-------------------+-------------------+------------------+----------+------------+------------+---------------+-------------+-----------+-----+-------+----------+------------+---------------------+------------+------------+--------------------+------------+\n",
      "|       1|2020-01-03 19:00:01|2020-01-03 19:05:48|                 N|         1|         244|         116|              1|          1.0|        6.0|  1.0|    0.5|       1.0|         0.0|                  0.3|         8.8|           1|                 0.0|       green|\n",
      "|       2|2020-01-29 19:55:01|2020-01-29 19:59:12|                 N|         1|         166|          24|              1|         0.82|        5.0|  1.0|    0.5|      1.36|         0.0|                  0.3|        8.16|           1|                 0.0|       green|\n",
      "|       1|2020-01-02 10:20:42|2020-01-02 10:21:07|                 N|         1|         145|         145|              1|          0.0|        2.5|  0.0|    0.5|       0.0|         0.0|                  0.3|         3.3|           2|                 0.0|       green|\n",
      "|       2|2020-01-07 08:30:00|2020-01-07 08:44:00|              null|      null|         191|         131|           null|         3.06|      27.06| 2.75|    0.0|       0.0|         0.0|                  0.3|       30.11|        null|                null|       green|\n",
      "|       2|2020-01-09 17:40:00|2020-01-09 18:28:00|              null|      null|         112|          72|           null|         6.62|      27.11| 2.75|    0.5|       0.0|         0.0|                  0.0|       30.36|        null|                null|       green|\n",
      "|       2|2020-01-07 17:48:13|2020-01-07 18:00:44|                 N|         1|          41|         151|              1|         1.56|        9.5|  1.0|    0.5|      2.03|         0.0|                  0.3|       13.33|           1|                 0.0|       green|\n",
      "|       2|2020-01-11 10:09:00|2020-01-11 10:18:00|              null|      null|          77|          76|           null|         1.32|        8.0|  0.0|    0.5|       0.0|         0.0|                  0.3|         8.8|        null|                null|       green|\n",
      "|       2|2020-01-24 21:25:12|2020-01-24 21:27:41|                 N|         1|          42|          42|              1|         0.74|        4.5|  0.5|    0.5|      1.45|         0.0|                  0.3|        7.25|           1|                 0.0|       green|\n",
      "|       2|2020-01-04 17:06:40|2020-01-04 17:23:26|                 N|         1|          82|         223|              2|         4.34|       15.5|  0.0|    0.5|      3.26|         0.0|                  0.3|       19.56|           1|                 0.0|       green|\n",
      "|       2|2020-01-26 15:07:00|2020-01-26 15:23:00|              null|      null|          41|         127|           null|         4.17|      25.79| 2.75|    0.0|       0.0|         0.0|                  0.3|       28.84|        null|                null|       green|\n",
      "|       2|2020-01-13 03:52:00|2020-01-13 04:12:00|              null|      null|         122|         129|           null|        11.96|      36.62| 2.75|    0.0|       0.0|         0.0|                  0.3|       39.67|        null|                null|       green|\n",
      "|       2|2020-01-31 09:47:00|2020-01-31 10:03:00|              null|      null|         153|          20|           null|         2.95|      22.31|  0.0|    0.0|       0.0|         0.0|                  0.3|       22.61|        null|                null|       green|\n",
      "|       2|2020-01-03 09:40:04|2020-01-03 09:50:10|                 N|         1|         236|         140|              2|         1.66|        9.0|  0.0|    0.5|      1.39|         0.0|                  0.3|       13.94|           1|                2.75|       green|\n",
      "|       2|2020-01-07 15:20:58|2020-01-07 15:24:46|                 N|         1|         129|          82|              1|         0.65|        4.5|  0.0|    0.5|       0.0|         0.0|                  0.3|         5.3|           2|                 0.0|       green|\n",
      "|       2|2020-01-18 06:50:01|2020-01-18 06:58:04|                 N|         1|          95|         135|              1|         1.76|        8.5|  0.0|    0.5|       0.0|         0.0|                  0.3|         9.3|           2|                 0.0|       green|\n",
      "|       2|2020-01-19 12:41:41|2020-01-19 12:56:31|                 N|         1|          65|         225|              1|         2.89|       13.0|  0.0|    0.5|      2.76|         0.0|                  0.3|       16.56|           1|                 0.0|       green|\n",
      "|       2|2020-01-17 23:01:37|2020-01-17 23:14:31|                 N|         1|         260|         157|              1|         2.26|       10.5|  0.5|    0.5|      2.36|         0.0|                  0.3|       14.16|           1|                 0.0|       green|\n",
      "|       2|2020-01-21 16:18:51|2020-01-21 17:14:03|                 N|         1|          19|         228|              1|        30.12|       80.0|  1.0|    0.5|       0.0|         0.0|                  0.3|        81.8|           1|                 0.0|       green|\n",
      "|       2|2020-01-12 13:38:25|2020-01-12 13:42:52|                 N|         1|          25|          33|              1|         0.85|        5.5|  0.0|    0.5|       0.0|         0.0|                  0.3|         6.3|           2|                 0.0|       green|\n",
      "|       2|2020-01-27 23:39:43|2020-01-27 23:54:21|                 N|         1|         166|         236|              1|          3.5|       13.5|  0.5|    0.5|       0.0|         0.0|                  0.3|       17.55|           2|                2.75|       green|\n",
      "+--------+-------------------+-------------------+------------------+----------+------------+------------+---------------+-------------+-----------+-----+-------+----------+------------+---------------------+------------+------------+--------------------+------------+\n",
      "only showing top 20 rows\n",
      "\n"
     ]
    }
   ],
   "source": [
    "df_trips_data.show()"
   ]
  },
  {
   "cell_type": "code",
   "execution_count": 36,
   "metadata": {},
   "outputs": [
    {
     "name": "stderr",
     "output_type": "stream",
     "text": [
      "c:\\Users\\Windows\\anaconda3\\envs\\dev\\lib\\site-packages\\pyspark\\sql\\dataframe.py:330: FutureWarning: Deprecated in 2.0, use createOrReplaceTempView instead.\n",
      "  warnings.warn(\"Deprecated in 2.0, use createOrReplaceTempView instead.\", FutureWarning)\n"
     ]
    }
   ],
   "source": [
    "df_trips_data.registerTempTable('trips_data')"
   ]
  },
  {
   "cell_type": "code",
   "execution_count": null,
   "metadata": {},
   "outputs": [],
   "source": [
    "df_trips_data.show(20)"
   ]
  },
  {
   "cell_type": "code",
   "execution_count": 47,
   "metadata": {},
   "outputs": [
    {
     "name": "stdout",
     "output_type": "stream",
     "text": [
      "root\n",
      " |-- VendorID: integer (nullable = true)\n",
      " |-- pickup_datetime: timestamp (nullable = true)\n",
      " |-- dropoff_datetime: timestamp (nullable = true)\n",
      " |-- store_and_fwd_flag: string (nullable = true)\n",
      " |-- RatecodeID: integer (nullable = true)\n",
      " |-- PULocationID: integer (nullable = true)\n",
      " |-- DOLocationID: integer (nullable = true)\n",
      " |-- passenger_count: integer (nullable = true)\n",
      " |-- trip_distance: double (nullable = true)\n",
      " |-- fare_amount: double (nullable = true)\n",
      " |-- extra: double (nullable = true)\n",
      " |-- mta_tax: double (nullable = true)\n",
      " |-- tip_amount: double (nullable = true)\n",
      " |-- tolls_amount: double (nullable = true)\n",
      " |-- improvement_surcharge: double (nullable = true)\n",
      " |-- total_amount: double (nullable = true)\n",
      " |-- payment_type: integer (nullable = true)\n",
      " |-- congestion_surcharge: double (nullable = true)\n",
      " |-- service_type: string (nullable = false)\n",
      "\n"
     ]
    }
   ],
   "source": [
    "df_trips_data.printSchema"
   ]
  },
  {
   "cell_type": "code",
   "execution_count": 39,
   "metadata": {},
   "outputs": [
    {
     "name": "stdout",
     "output_type": "stream",
     "text": [
      "+------------+--------+\n",
      "|service_type|count(1)|\n",
      "+------------+--------+\n",
      "|       green| 2802931|\n",
      "|      yellow|55553400|\n",
      "+------------+--------+\n",
      "\n"
     ]
    }
   ],
   "source": [
    "spark.sql(\"\"\"\n",
    "    SELECT service_type, count(1) \n",
    "    FROM trips_data\n",
    "    GROUP BY service_type\n",
    "\"\"\").show()"
   ]
  },
  {
   "cell_type": "code",
   "execution_count": 64,
   "metadata": {},
   "outputs": [
    {
     "name": "stdout",
     "output_type": "stream",
     "text": [
      "+--------+-------------------+-------------------+------------------+----------+------------+------------+---------------+-------------+-----------+-----+-------+----------+------------+---------------------+------------+------------+--------------------+------------+\n",
      "|VendorID|    pickup_datetime|   dropoff_datetime|store_and_fwd_flag|RatecodeID|PULocationID|DOLocationID|passenger_count|trip_distance|fare_amount|extra|mta_tax|tip_amount|tolls_amount|improvement_surcharge|total_amount|payment_type|congestion_surcharge|service_type|\n",
      "+--------+-------------------+-------------------+------------------+----------+------------+------------+---------------+-------------+-----------+-----+-------+----------+------------+---------------------+------------+------------+--------------------+------------+\n",
      "|       1|2020-01-03 19:00:01|2020-01-03 19:05:48|                 N|         1|         244|         116|              1|          1.0|        6.0|  1.0|    0.5|       1.0|         0.0|                  0.3|         8.8|           1|                 0.0|       green|\n",
      "|       2|2020-01-29 19:55:01|2020-01-29 19:59:12|                 N|         1|         166|          24|              1|         0.82|        5.0|  1.0|    0.5|      1.36|         0.0|                  0.3|        8.16|           1|                 0.0|       green|\n",
      "|       1|2020-01-02 10:20:42|2020-01-02 10:21:07|                 N|         1|         145|         145|              1|          0.0|        2.5|  0.0|    0.5|       0.0|         0.0|                  0.3|         3.3|           2|                 0.0|       green|\n",
      "|       2|2020-01-07 08:30:00|2020-01-07 08:44:00|              null|      null|         191|         131|           null|         3.06|      27.06| 2.75|    0.0|       0.0|         0.0|                  0.3|       30.11|        null|                null|       green|\n",
      "|       2|2020-01-09 17:40:00|2020-01-09 18:28:00|              null|      null|         112|          72|           null|         6.62|      27.11| 2.75|    0.5|       0.0|         0.0|                  0.0|       30.36|        null|                null|       green|\n",
      "|       2|2020-01-07 17:48:13|2020-01-07 18:00:44|                 N|         1|          41|         151|              1|         1.56|        9.5|  1.0|    0.5|      2.03|         0.0|                  0.3|       13.33|           1|                 0.0|       green|\n",
      "|       2|2020-01-11 10:09:00|2020-01-11 10:18:00|              null|      null|          77|          76|           null|         1.32|        8.0|  0.0|    0.5|       0.0|         0.0|                  0.3|         8.8|        null|                null|       green|\n",
      "|       2|2020-01-24 21:25:12|2020-01-24 21:27:41|                 N|         1|          42|          42|              1|         0.74|        4.5|  0.5|    0.5|      1.45|         0.0|                  0.3|        7.25|           1|                 0.0|       green|\n",
      "|       2|2020-01-04 17:06:40|2020-01-04 17:23:26|                 N|         1|          82|         223|              2|         4.34|       15.5|  0.0|    0.5|      3.26|         0.0|                  0.3|       19.56|           1|                 0.0|       green|\n",
      "|       2|2020-01-26 15:07:00|2020-01-26 15:23:00|              null|      null|          41|         127|           null|         4.17|      25.79| 2.75|    0.0|       0.0|         0.0|                  0.3|       28.84|        null|                null|       green|\n",
      "|       2|2020-01-13 03:52:00|2020-01-13 04:12:00|              null|      null|         122|         129|           null|        11.96|      36.62| 2.75|    0.0|       0.0|         0.0|                  0.3|       39.67|        null|                null|       green|\n",
      "|       2|2020-01-31 09:47:00|2020-01-31 10:03:00|              null|      null|         153|          20|           null|         2.95|      22.31|  0.0|    0.0|       0.0|         0.0|                  0.3|       22.61|        null|                null|       green|\n",
      "|       2|2020-01-03 09:40:04|2020-01-03 09:50:10|                 N|         1|         236|         140|              2|         1.66|        9.0|  0.0|    0.5|      1.39|         0.0|                  0.3|       13.94|           1|                2.75|       green|\n",
      "|       2|2020-01-07 15:20:58|2020-01-07 15:24:46|                 N|         1|         129|          82|              1|         0.65|        4.5|  0.0|    0.5|       0.0|         0.0|                  0.3|         5.3|           2|                 0.0|       green|\n",
      "|       2|2020-01-18 06:50:01|2020-01-18 06:58:04|                 N|         1|          95|         135|              1|         1.76|        8.5|  0.0|    0.5|       0.0|         0.0|                  0.3|         9.3|           2|                 0.0|       green|\n",
      "|       2|2020-01-19 12:41:41|2020-01-19 12:56:31|                 N|         1|          65|         225|              1|         2.89|       13.0|  0.0|    0.5|      2.76|         0.0|                  0.3|       16.56|           1|                 0.0|       green|\n",
      "|       2|2020-01-17 23:01:37|2020-01-17 23:14:31|                 N|         1|         260|         157|              1|         2.26|       10.5|  0.5|    0.5|      2.36|         0.0|                  0.3|       14.16|           1|                 0.0|       green|\n",
      "|       2|2020-01-21 16:18:51|2020-01-21 17:14:03|                 N|         1|          19|         228|              1|        30.12|       80.0|  1.0|    0.5|       0.0|         0.0|                  0.3|        81.8|           1|                 0.0|       green|\n",
      "|       2|2020-01-12 13:38:25|2020-01-12 13:42:52|                 N|         1|          25|          33|              1|         0.85|        5.5|  0.0|    0.5|       0.0|         0.0|                  0.3|         6.3|           2|                 0.0|       green|\n",
      "|       2|2020-01-27 23:39:43|2020-01-27 23:54:21|                 N|         1|         166|         236|              1|          3.5|       13.5|  0.5|    0.5|       0.0|         0.0|                  0.3|       17.55|           2|                2.75|       green|\n",
      "+--------+-------------------+-------------------+------------------+----------+------------+------------+---------------+-------------+-----------+-----+-------+----------+------------+---------------------+------------+------------+--------------------+------------+\n",
      "only showing top 20 rows\n",
      "\n"
     ]
    }
   ],
   "source": [
    "spark.sql(\"\"\"\n",
    "    SELECT *\n",
    "    FROM trips_data\n",
    "\"\"\").show()"
   ]
  },
  {
   "cell_type": "code",
   "execution_count": 42,
   "metadata": {},
   "outputs": [],
   "source": [
    "df_result = spark.sql(\"\"\"\n",
    "SELECT\n",
    "    -- Reveneue grouping \n",
    "    PULocationID AS revenue_zone,\n",
    "    date_trunc(\"month\", \"pickup_datetime\") AS revenue_month, \n",
    "    service_type, \n",
    "    SUM(fare_amount) AS revenue_monthly_fare,\n",
    "    SUM(extra) AS revenue_monthly_extra,\n",
    "    SUM(mta_tax) AS revenue_monthly_mta_tax,\n",
    "    SUM(tip_amount) AS revenue_monthly_tip_amount,\n",
    "    SUM(tolls_amount) AS revenue_monthly_tolls_amount,\n",
    "    SUM(improvement_surcharge) AS revenue_monthly_improvement_surcharge,\n",
    "    SUM(total_amount) AS revenue_monthly_total_amount,\n",
    "\n",
    "    -- Additional calculations\n",
    "    AVG(pASsenger_count) AS AVG_monthly_pASsenger_count,\n",
    "    AVG(trip_distance) AS AVG_monthly_trip_distance\n",
    "\n",
    "FROM trips_data\n",
    "GROUP BY 1,2,3\n",
    "\"\"\")"
   ]
  },
  {
   "cell_type": "code",
   "execution_count": 43,
   "metadata": {},
   "outputs": [
    {
     "name": "stdout",
     "output_type": "stream",
     "text": [
      "+------------+-------------+------------+--------------------+---------------------+-----------------------+--------------------------+----------------------------+-------------------------------------+----------------------------+---------------------------+-------------------------+\n",
      "|revenue_zone|revenue_month|service_type|revenue_monthly_fare|revenue_monthly_extra|revenue_monthly_mta_tax|revenue_monthly_tip_amount|revenue_monthly_tolls_amount|revenue_monthly_improvement_surcharge|revenue_monthly_total_amount|AVG_monthly_pASsenger_count|AVG_monthly_trip_distance|\n",
      "+------------+-------------+------------+--------------------+---------------------+-----------------------+--------------------------+----------------------------+-------------------------------------+----------------------------+---------------------------+-------------------------+\n",
      "|         254|         null|       green|   335267.4700000001|             15113.52|                 1016.5|         9840.060000000001|          16850.889999999963|                    3313.500000000042|           381676.7899999992|         1.1311745334796925|       251.83518954827292|\n",
      "|          38|         null|       green|  100037.67999999996|    3417.849999999999|                  278.0|        2467.9999999999995|           4205.550000000003|                    785.6999999999979|          111248.73000000005|                      1.134|       175.91085777942814|\n",
      "|         229|         null|       green|  17831.270000000004|   1015.6500000000001|                   24.5|        408.21000000000004|                     1004.15|                    167.1000000000001|                    20475.13|         1.1904761904761905|        8.378494623655916|\n",
      "|         188|         null|       green|   524778.2100000017|             28058.12|                 2209.0|                  21293.92|                     9482.54|                      6737.7000000001|           593918.1899999975|         1.1753541833734296|       106.21499520069804|\n",
      "|         232|         null|       green|   50396.03999999998|              2634.25|                  74.05|                   1351.72|          1688.5100000000002|                   486.59999999999985|           56675.21999999999|         1.0491803278688525|       246.45572044334975|\n",
      "|          91|         null|       green|  305904.52000000107|   16614.730000000003|                  877.5|                   9095.91|                     8769.84|                     3259.20000000004|           344906.0000000003|         1.1541155866900175|        192.3524627263044|\n",
      "|         134|         null|       green|  314409.58000000013|             13528.85|                 7420.5|        22413.449999999993|           6196.470000000004|                    5757.899999999903|           370731.6000000019|         1.3633473889069088|        32.36843459872084|\n",
      "|         241|         null|       green|  175300.92000000004|    6666.350000000001|                 1040.0|                   6125.92|          6750.7900000000045|                   1832.9999999999943|           198125.1799999997|          1.152247462542291|        251.3179576904724|\n",
      "|         101|         null|       green|   45884.99999999997|   1744.1499999999996|                  123.0|                   1132.47|          1127.3200000000002|                    371.3999999999998|           50413.69000000001|         1.2105263157894737|       312.76991386061076|\n",
      "|          93|         null|       green|  117243.51000000002|   1631.6000000000001|                 1019.5|        15564.170000000006|           5796.510000000003|                    950.4000000000058|           144538.3400000002|          1.475495307612096|        8.894394029850758|\n",
      "|         118|         null|       green|             7023.76|                56.75|                   45.5|                    120.87|           965.3100000000001|                    36.89999999999999|                     8251.84|         1.2150537634408602|       18.382439024390244|\n",
      "|         153|         null|       green|   55153.46999999997|              2499.85|                  357.5|                   2052.72|          1214.0099999999998|                    647.0999999999989|           62016.85000000003|         1.1685393258426966|        262.5768874773139|\n",
      "|         189|         null|       green|   125932.8399999999|              5620.19|                 1311.5|        10911.309999999998|                     1175.24|                   1861.5000000000036|           148478.2799999998|         1.2256049960967994|        141.8325166825549|\n",
      "|         221|         null|       green|              5987.4|                61.25|                   36.5|        148.80999999999997|           840.6000000000001|                                 35.4|                     7123.71|                     1.7875|       14.671525423728813|\n",
      "|         225|         null|       green|  398020.69000000064|   20123.179999999997|                 1954.5|        16588.790000000005|           8817.870000000003|                    4859.700000000055|          451668.27999999956|         1.1561660197073753|         91.7442767483562|\n",
      "|          76|         null|       green|   619459.4700000006|    30071.71999999999|                 2248.0|                  17808.86|          20307.059999999918|                    6426.900000000055|           696765.0600000034|          1.223641304347826|       114.94497805727738|\n",
      "|         227|         null|       green|   161446.4100000001|              5195.95|                  738.5|        5505.4800000000005|          2362.0400000000004|                   1373.9999999999927|          176776.17999999976|         1.0627705627705628|        94.35129502572896|\n",
      "|          94|         null|       green|   99516.93000000007|    4703.900000000001|                  649.0|        3410.1699999999996|          3546.3300000000017|                   1210.4999999999939|          113227.98000000011|         1.2139117427075543|        75.30123609095308|\n",
      "|          52|         null|       green|  243531.18000000008|               7158.1|                 8806.0|                  37082.05|          1769.3800000000003|                    5711.699999999837|           311182.2100000032|         1.2133121308496138|       16.886360457226377|\n",
      "|         160|         null|       green|   59214.13999999997|   2780.7499999999995|                  294.0|                   2263.19|                     1639.42|                    679.7999999999985|           66992.15000000002|         1.1965408805031446|       173.85016421780466|\n",
      "+------------+-------------+------------+--------------------+---------------------+-----------------------+--------------------------+----------------------------+-------------------------------------+----------------------------+---------------------------+-------------------------+\n",
      "only showing top 20 rows\n",
      "\n"
     ]
    }
   ],
   "source": [
    "df_result.show()"
   ]
  },
  {
   "cell_type": "code",
   "execution_count": 65,
   "metadata": {},
   "outputs": [],
   "source": [
    "df_result.coalesce(1).write.parquet('data/report/revenue')"
   ]
  },
  {
   "cell_type": "code",
   "execution_count": null,
   "metadata": {},
   "outputs": [],
   "source": []
  }
 ],
 "metadata": {
  "kernelspec": {
   "display_name": "dev",
   "language": "python",
   "name": "python3"
  },
  "language_info": {
   "codemirror_mode": {
    "name": "ipython",
    "version": 3
   },
   "file_extension": ".py",
   "mimetype": "text/x-python",
   "name": "python",
   "nbconvert_exporter": "python",
   "pygments_lexer": "ipython3",
   "version": "3.8.17"
  }
 },
 "nbformat": 4,
 "nbformat_minor": 2
}
