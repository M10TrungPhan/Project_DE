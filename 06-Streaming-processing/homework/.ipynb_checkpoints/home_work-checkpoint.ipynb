{
 "cells": [
  {
   "cell_type": "code",
   "execution_count": 2,
   "metadata": {
    "tags": []
   },
   "outputs": [
    {
     "data": {
      "text/plain": [
       "True"
      ]
     },
     "execution_count": 2,
     "metadata": {},
     "output_type": "execute_result"
    }
   ],
   "source": [
    "import json\n",
    "import time \n",
    "\n",
    "from kafka import KafkaProducer\n",
    "\n",
    "def json_serializer(data):\n",
    "    return json.dumps(data).encode('utf-8')\n",
    "\n",
    "server = 'redpanda-1:9092'\n",
    "\n",
    "producer = KafkaProducer(\n",
    "    bootstrap_servers=[server],\n",
    "    value_serializer=json_serializer\n",
    ")\n",
    "\n",
    "producer.bootstrap_connected()"
   ]
  },
  {
   "cell_type": "markdown",
   "metadata": {},
   "source": [
    "# PRODUCE DATA"
   ]
  },
  {
   "cell_type": "code",
   "execution_count": 3,
   "metadata": {
    "tags": []
   },
   "outputs": [
    {
     "data": {
      "text/plain": [
       "True"
      ]
     },
     "execution_count": 3,
     "metadata": {},
     "output_type": "execute_result"
    }
   ],
   "source": [
    "import json\n",
    "import time \n",
    "\n",
    "from kafka import KafkaProducer\n",
    "\n",
    "def json_serializer(data):\n",
    "    return json.dumps(data).encode('utf-8')\n",
    "\n",
    "server = 'redpanda-1:9092'\n",
    "\n",
    "producer = KafkaProducer(\n",
    "    bootstrap_servers=[server],\n",
    "    value_serializer=json_serializer\n",
    ")\n",
    "\n",
    "producer.bootstrap_connected()"
   ]
  },
  {
   "cell_type": "code",
   "execution_count": 4,
   "metadata": {
    "tags": []
   },
   "outputs": [
    {
     "name": "stdout",
     "output_type": "stream",
     "text": [
      "Sent: {'number': 0}\n",
      "Sent: {'number': 1}\n",
      "Sent: {'number': 2}\n",
      "Sent: {'number': 3}\n",
      "Sent: {'number': 4}\n",
      "Sent: {'number': 5}\n",
      "Sent: {'number': 6}\n",
      "Sent: {'number': 7}\n",
      "Sent: {'number': 8}\n",
      "Sent: {'number': 9}\n",
      "0.5144257545471191\n",
      "Tool 30.004199981689453 senconds\n"
     ]
    }
   ],
   "source": [
    "t0 = time.time()\n",
    "\n",
    "topic_name = 'test-topic'\n",
    "\n",
    "for i in range(10):\n",
    "    message = {\"number\":i}\n",
    "    producer.send(topic_name, value=message)\n",
    "    print(f'Sent: {message}')\n",
    "    time.sleep(0.05)\n",
    "print(time.time()-t0)\n",
    "producer.flush()\n",
    "t1 = time.time()\n",
    "print(f\"Tool {(t1-t0)} senconds\")"
   ]
  },
  {
   "cell_type": "code",
   "execution_count": 6,
   "metadata": {
    "tags": []
   },
   "outputs": [
    {
     "data": {
      "text/plain": [
       "0.0"
      ]
     },
     "execution_count": 6,
     "metadata": {},
     "output_type": "execute_result"
    }
   ],
   "source": [
    "0.6194324493408203 - 0.6194324493408203 "
   ]
  },
  {
   "cell_type": "code",
   "execution_count": 7,
   "metadata": {
    "tags": []
   },
   "outputs": [
    {
     "ename": "ModuleNotFoundError",
     "evalue": "No module named 'pandas'",
     "output_type": "error",
     "traceback": [
      "\u001b[0;31m---------------------------------------------------------------------------\u001b[0m",
      "\u001b[0;31mModuleNotFoundError\u001b[0m                       Traceback (most recent call last)",
      "Cell \u001b[0;32mIn[7], line 1\u001b[0m\n\u001b[0;32m----> 1\u001b[0m \u001b[38;5;28;01mimport\u001b[39;00m \u001b[38;5;21;01mpandas\u001b[39;00m \u001b[38;5;28;01mas\u001b[39;00m \u001b[38;5;21;01mpd\u001b[39;00m \n",
      "\u001b[0;31mModuleNotFoundError\u001b[0m: No module named 'pandas'"
     ]
    }
   ],
   "source": [
    "import pandas as pd "
   ]
  },
  {
   "cell_type": "code",
   "execution_count": 9,
   "metadata": {},
   "outputs": [
    {
     "name": "stderr",
     "output_type": "stream",
     "text": [
      "C:\\Users\\ADVN-DEV\\AppData\\Local\\Temp\\ipykernel_20272\\29539273.py:1: DtypeWarning: Columns (3) have mixed types. Specify dtype option on import or set low_memory=False.\n",
      "  df_green = pd.read_csv('green_tripdata_2019-10.csv')\n"
     ]
    }
   ],
   "source": [
    "df_green = pd.read_csv('green_tripdata_2019-10.csv')"
   ]
  },
  {
   "cell_type": "code",
   "execution_count": 11,
   "metadata": {},
   "outputs": [],
   "source": [
    "df_green_process = df_green[['lpep_pickup_datetime', 'lpep_dropoff_datetime', 'PULocationID', 'DOLocationID', 'passenger_count', 'trip_distance', 'tip_amount']]"
   ]
  },
  {
   "cell_type": "code",
   "execution_count": 12,
   "metadata": {},
   "outputs": [
    {
     "data": {
      "text/html": [
       "<div>\n",
       "<style scoped>\n",
       "    .dataframe tbody tr th:only-of-type {\n",
       "        vertical-align: middle;\n",
       "    }\n",
       "\n",
       "    .dataframe tbody tr th {\n",
       "        vertical-align: top;\n",
       "    }\n",
       "\n",
       "    .dataframe thead th {\n",
       "        text-align: right;\n",
       "    }\n",
       "</style>\n",
       "<table border=\"1\" class=\"dataframe\">\n",
       "  <thead>\n",
       "    <tr style=\"text-align: right;\">\n",
       "      <th></th>\n",
       "      <th>lpep_pickup_datetime</th>\n",
       "      <th>lpep_dropoff_datetime</th>\n",
       "      <th>PULocationID</th>\n",
       "      <th>DOLocationID</th>\n",
       "      <th>passenger_count</th>\n",
       "      <th>trip_distance</th>\n",
       "      <th>tip_amount</th>\n",
       "    </tr>\n",
       "  </thead>\n",
       "  <tbody>\n",
       "    <tr>\n",
       "      <th>0</th>\n",
       "      <td>2019-10-01 00:26:02</td>\n",
       "      <td>2019-10-01 00:39:58</td>\n",
       "      <td>112</td>\n",
       "      <td>196</td>\n",
       "      <td>1.0</td>\n",
       "      <td>5.88</td>\n",
       "      <td>0.00</td>\n",
       "    </tr>\n",
       "    <tr>\n",
       "      <th>1</th>\n",
       "      <td>2019-10-01 00:18:11</td>\n",
       "      <td>2019-10-01 00:22:38</td>\n",
       "      <td>43</td>\n",
       "      <td>263</td>\n",
       "      <td>1.0</td>\n",
       "      <td>0.80</td>\n",
       "      <td>0.00</td>\n",
       "    </tr>\n",
       "    <tr>\n",
       "      <th>2</th>\n",
       "      <td>2019-10-01 00:09:31</td>\n",
       "      <td>2019-10-01 00:24:47</td>\n",
       "      <td>255</td>\n",
       "      <td>228</td>\n",
       "      <td>2.0</td>\n",
       "      <td>7.50</td>\n",
       "      <td>0.00</td>\n",
       "    </tr>\n",
       "    <tr>\n",
       "      <th>3</th>\n",
       "      <td>2019-10-01 00:37:40</td>\n",
       "      <td>2019-10-01 00:41:49</td>\n",
       "      <td>181</td>\n",
       "      <td>181</td>\n",
       "      <td>1.0</td>\n",
       "      <td>0.90</td>\n",
       "      <td>0.00</td>\n",
       "    </tr>\n",
       "    <tr>\n",
       "      <th>4</th>\n",
       "      <td>2019-10-01 00:08:13</td>\n",
       "      <td>2019-10-01 00:17:56</td>\n",
       "      <td>97</td>\n",
       "      <td>188</td>\n",
       "      <td>1.0</td>\n",
       "      <td>2.52</td>\n",
       "      <td>2.26</td>\n",
       "    </tr>\n",
       "    <tr>\n",
       "      <th>...</th>\n",
       "      <td>...</td>\n",
       "      <td>...</td>\n",
       "      <td>...</td>\n",
       "      <td>...</td>\n",
       "      <td>...</td>\n",
       "      <td>...</td>\n",
       "      <td>...</td>\n",
       "    </tr>\n",
       "    <tr>\n",
       "      <th>476381</th>\n",
       "      <td>2019-10-31 23:30:00</td>\n",
       "      <td>2019-11-01 00:00:00</td>\n",
       "      <td>65</td>\n",
       "      <td>102</td>\n",
       "      <td>NaN</td>\n",
       "      <td>7.04</td>\n",
       "      <td>0.00</td>\n",
       "    </tr>\n",
       "    <tr>\n",
       "      <th>476382</th>\n",
       "      <td>2019-10-31 23:03:00</td>\n",
       "      <td>2019-10-31 23:24:00</td>\n",
       "      <td>129</td>\n",
       "      <td>136</td>\n",
       "      <td>NaN</td>\n",
       "      <td>0.00</td>\n",
       "      <td>0.00</td>\n",
       "    </tr>\n",
       "    <tr>\n",
       "      <th>476383</th>\n",
       "      <td>2019-10-31 23:02:00</td>\n",
       "      <td>2019-10-31 23:23:00</td>\n",
       "      <td>61</td>\n",
       "      <td>222</td>\n",
       "      <td>NaN</td>\n",
       "      <td>3.90</td>\n",
       "      <td>0.00</td>\n",
       "    </tr>\n",
       "    <tr>\n",
       "      <th>476384</th>\n",
       "      <td>2019-10-31 23:42:00</td>\n",
       "      <td>2019-10-31 23:56:00</td>\n",
       "      <td>76</td>\n",
       "      <td>39</td>\n",
       "      <td>NaN</td>\n",
       "      <td>3.08</td>\n",
       "      <td>0.00</td>\n",
       "    </tr>\n",
       "    <tr>\n",
       "      <th>476385</th>\n",
       "      <td>2019-10-31 23:23:00</td>\n",
       "      <td>2019-10-31 23:56:00</td>\n",
       "      <td>56</td>\n",
       "      <td>215</td>\n",
       "      <td>NaN</td>\n",
       "      <td>6.84</td>\n",
       "      <td>0.00</td>\n",
       "    </tr>\n",
       "  </tbody>\n",
       "</table>\n",
       "<p>476386 rows × 7 columns</p>\n",
       "</div>"
      ],
      "text/plain": [
       "       lpep_pickup_datetime lpep_dropoff_datetime  PULocationID  DOLocationID  \\\n",
       "0       2019-10-01 00:26:02   2019-10-01 00:39:58           112           196   \n",
       "1       2019-10-01 00:18:11   2019-10-01 00:22:38            43           263   \n",
       "2       2019-10-01 00:09:31   2019-10-01 00:24:47           255           228   \n",
       "3       2019-10-01 00:37:40   2019-10-01 00:41:49           181           181   \n",
       "4       2019-10-01 00:08:13   2019-10-01 00:17:56            97           188   \n",
       "...                     ...                   ...           ...           ...   \n",
       "476381  2019-10-31 23:30:00   2019-11-01 00:00:00            65           102   \n",
       "476382  2019-10-31 23:03:00   2019-10-31 23:24:00           129           136   \n",
       "476383  2019-10-31 23:02:00   2019-10-31 23:23:00            61           222   \n",
       "476384  2019-10-31 23:42:00   2019-10-31 23:56:00            76            39   \n",
       "476385  2019-10-31 23:23:00   2019-10-31 23:56:00            56           215   \n",
       "\n",
       "        passenger_count  trip_distance  tip_amount  \n",
       "0                   1.0           5.88        0.00  \n",
       "1                   1.0           0.80        0.00  \n",
       "2                   2.0           7.50        0.00  \n",
       "3                   1.0           0.90        0.00  \n",
       "4                   1.0           2.52        2.26  \n",
       "...                 ...            ...         ...  \n",
       "476381              NaN           7.04        0.00  \n",
       "476382              NaN           0.00        0.00  \n",
       "476383              NaN           3.90        0.00  \n",
       "476384              NaN           3.08        0.00  \n",
       "476385              NaN           6.84        0.00  \n",
       "\n",
       "[476386 rows x 7 columns]"
      ]
     },
     "execution_count": 12,
     "metadata": {},
     "output_type": "execute_result"
    }
   ],
   "source": [
    "df_green_process"
   ]
  },
  {
   "cell_type": "code",
   "execution_count": 5,
   "metadata": {},
   "outputs": [],
   "source": [
    "topic_name = 'green-trips'\n",
    "t0 = time.time()\n",
    "for row in df_green_process.itertuples(index=False):\n",
    "    row_dict = {col: getattr(row, col) for col in row._fields}\n",
    "    producer.send(topic = topic_name, value=row_dict)\n",
    "    \n",
    "print(time.time()- t0)"
   ]
  },
  {
   "cell_type": "markdown",
   "metadata": {},
   "source": [
    "# CONSUME DATA PYSPARK"
   ]
  },
  {
   "cell_type": "code",
   "execution_count": null,
   "metadata": {
    "tags": []
   },
   "outputs": [
    {
     "name": "stdout",
     "output_type": "stream",
     "text": [
      ":: loading settings :: url = jar:file:/usr/local/lib/python3.10/dist-packages/pyspark/jars/ivy-2.5.0.jar!/org/apache/ivy/core/settings/ivysettings.xml\n"
     ]
    },
    {
     "name": "stderr",
     "output_type": "stream",
     "text": [
      "Ivy Default Cache set to: /root/.ivy2/cache\n",
      "The jars for the packages stored in: /root/.ivy2/jars\n",
      "org.apache.spark#spark-sql-kafka-0-10_2.12 added as a dependency\n",
      ":: resolving dependencies :: org.apache.spark#spark-submit-parent-f4ae8d0c-d588-475a-bf13-74da17b4af58;1.0\n",
      "\tconfs: [default]\n",
      "\tfound org.apache.spark#spark-sql-kafka-0-10_2.12;3.3.1 in central\n",
      "\tfound org.apache.spark#spark-token-provider-kafka-0-10_2.12;3.3.1 in central\n",
      "\tfound org.apache.kafka#kafka-clients;2.8.1 in central\n",
      "\tfound org.lz4#lz4-java;1.8.0 in central\n",
      "\tfound org.xerial.snappy#snappy-java;1.1.8.4 in central\n",
      "\tfound org.slf4j#slf4j-api;1.7.32 in central\n",
      "\tfound org.apache.hadoop#hadoop-client-runtime;3.3.2 in central\n",
      "\tfound org.spark-project.spark#unused;1.0.0 in central\n",
      "\tfound org.apache.hadoop#hadoop-client-api;3.3.2 in central\n",
      "\tfound commons-logging#commons-logging;1.1.3 in central\n",
      "\tfound com.google.code.findbugs#jsr305;3.0.0 in central\n",
      "\tfound org.apache.commons#commons-pool2;2.11.1 in central\n",
      "downloading https://repo1.maven.org/maven2/org/apache/spark/spark-sql-kafka-0-10_2.12/3.3.1/spark-sql-kafka-0-10_2.12-3.3.1.jar ...\n",
      "\t[SUCCESSFUL ] org.apache.spark#spark-sql-kafka-0-10_2.12;3.3.1!spark-sql-kafka-0-10_2.12.jar (1106ms)\n",
      "downloading https://repo1.maven.org/maven2/org/apache/spark/spark-token-provider-kafka-0-10_2.12/3.3.1/spark-token-provider-kafka-0-10_2.12-3.3.1.jar ...\n",
      "\t[SUCCESSFUL ] org.apache.spark#spark-token-provider-kafka-0-10_2.12;3.3.1!spark-token-provider-kafka-0-10_2.12.jar (1077ms)\n",
      "downloading https://repo1.maven.org/maven2/org/apache/kafka/kafka-clients/2.8.1/kafka-clients-2.8.1.jar ...\n",
      "\t[SUCCESSFUL ] org.apache.kafka#kafka-clients;2.8.1!kafka-clients.jar (9706ms)\n",
      "downloading https://repo1.maven.org/maven2/com/google/code/findbugs/jsr305/3.0.0/jsr305-3.0.0.jar ...\n",
      "\t[SUCCESSFUL ] com.google.code.findbugs#jsr305;3.0.0!jsr305.jar (443ms)\n",
      "downloading https://repo1.maven.org/maven2/org/apache/commons/commons-pool2/2.11.1/commons-pool2-2.11.1.jar ...\n",
      "\t[SUCCESSFUL ] org.apache.commons#commons-pool2;2.11.1!commons-pool2.jar (801ms)\n",
      "downloading https://repo1.maven.org/maven2/org/spark-project/spark/unused/1.0.0/unused-1.0.0.jar ...\n",
      "\t[SUCCESSFUL ] org.spark-project.spark#unused;1.0.0!unused.jar (400ms)\n",
      "downloading https://repo1.maven.org/maven2/org/apache/hadoop/hadoop-client-runtime/3.3.2/hadoop-client-runtime-3.3.2.jar ...\n",
      "\t[SUCCESSFUL ] org.apache.hadoop#hadoop-client-runtime;3.3.2!hadoop-client-runtime.jar (91929ms)\n",
      "downloading https://repo1.maven.org/maven2/org/lz4/lz4-java/1.8.0/lz4-java-1.8.0.jar ...\n",
      "\t[SUCCESSFUL ] org.lz4#lz4-java;1.8.0!lz4-java.jar (2341ms)\n",
      "downloading https://repo1.maven.org/maven2/org/xerial/snappy/snappy-java/1.1.8.4/snappy-java-1.1.8.4.jar ...\n",
      "\t[SUCCESSFUL ] org.xerial.snappy#snappy-java;1.1.8.4!snappy-java.jar(bundle) (8552ms)\n",
      "downloading https://repo1.maven.org/maven2/org/slf4j/slf4j-api/1.7.32/slf4j-api-1.7.32.jar ...\n",
      "\t[SUCCESSFUL ] org.slf4j#slf4j-api;1.7.32!slf4j-api.jar (702ms)\n",
      "downloading https://repo1.maven.org/maven2/org/apache/hadoop/hadoop-client-api/3.3.2/hadoop-client-api-3.3.2.jar ...\n"
     ]
    }
   ],
   "source": [
    "import pyspark \n",
    "from pyspark.sql import SparkSession\n",
    "\n",
    "pyspark_version = pyspark.__version__\n",
    "kafka_jar_package = f\"org.apache.spark:spark-sql-kafka-0-10_2.12:{pyspark_version}\"\n",
    "# SparkSession.setLevel('INFO')\n",
    "spark = SparkSession \\\n",
    "    .builder \\\n",
    "    .master(\"local[*]\") \\\n",
    "    .appName(\"Green Trips Consumer\") \\\n",
    "    .config('spark.jars.packages', kafka_jar_package) \\\n",
    "    .getOrCreate()"
   ]
  },
  {
   "cell_type": "code",
   "execution_count": null,
   "metadata": {
    "tags": []
   },
   "outputs": [],
   "source": [
    "spark"
   ]
  },
  {
   "cell_type": "code",
   "execution_count": null,
   "metadata": {
    "tags": []
   },
   "outputs": [],
   "source": [
    "# sc = pyspark.SparkContext.getOrCreate()\n",
    "# log4j = sc._jvm.org.apache.log4j\n",
    "# log4j.LogManager.getRootLogger().setLevel(log4j.Level.DEBUG)"
   ]
  },
  {
   "cell_type": "code",
   "execution_count": null,
   "metadata": {
    "tags": []
   },
   "outputs": [],
   "source": [
    "topic_name = 'green-trips'\n",
    "\n",
    "green_stream = spark \\\n",
    "    .readStream \\\n",
    "    .format(\"kafka\") \\\n",
    "    .option(\"kafka.bootstrap.servers\", 'redpanda-1:9092') \\\n",
    "    .option(\"subscribe\", topic_name) \\\n",
    "    .option('startingOffsets', 'earliest') \\\n",
    "    .load()"
   ]
  },
  {
   "cell_type": "code",
   "execution_count": null,
   "metadata": {
    "tags": []
   },
   "outputs": [],
   "source": [
    "green_stream.printSchema()"
   ]
  },
  {
   "cell_type": "code",
   "execution_count": 4,
   "metadata": {
    "tags": []
   },
   "outputs": [],
   "source": [
    "def  peek(mini_batch, batch_id):\n",
    "    first_row = mini_batch.take(1)\n",
    "\n",
    "    if first_row:\n",
    "        print(first_row[0])\n",
    "\n",
    "query = green_stream.writeStream.foreachBatch(peek)"
   ]
  },
  {
   "cell_type": "code",
   "execution_count": null,
   "metadata": {
    "tags": []
   },
   "outputs": [
    {
     "name": "stdout",
     "output_type": "stream",
     "text": [
      "24/06/08 04:31:55 WARN NetworkClient: [Consumer clientId=consumer-spark-kafka-source-086f93ce-701b-44a0-b7da-a5e835da6ea5--181877961-driver-0-1, groupId=spark-kafka-source-086f93ce-701b-44a0-b7da-a5e835da6ea5--181877961-driver-0] Connection to node 1 (localhost/127.0.0.1:9092) could not be established. Broker may not be available.\n",
      "24/06/08 04:31:56 WARN NetworkClient: [Consumer clientId=consumer-spark-kafka-source-086f93ce-701b-44a0-b7da-a5e835da6ea5--181877961-driver-0-1, groupId=spark-kafka-source-086f93ce-701b-44a0-b7da-a5e835da6ea5--181877961-driver-0] Connection to node 1 (localhost/127.0.0.1:9092) could not be established. Broker may not be available.\n",
      "24/06/08 04:31:57 WARN NetworkClient: [Consumer clientId=consumer-spark-kafka-source-086f93ce-701b-44a0-b7da-a5e835da6ea5--181877961-driver-0-1, groupId=spark-kafka-source-086f93ce-701b-44a0-b7da-a5e835da6ea5--181877961-driver-0] Connection to node 1 (localhost/127.0.0.1:9092) could not be established. Broker may not be available.\n",
      "24/06/08 04:31:58 WARN NetworkClient: [Consumer clientId=consumer-spark-kafka-source-086f93ce-701b-44a0-b7da-a5e835da6ea5--181877961-driver-0-1, groupId=spark-kafka-source-086f93ce-701b-44a0-b7da-a5e835da6ea5--181877961-driver-0] Connection to node 1 (localhost/127.0.0.1:9092) could not be established. Broker may not be available.\n",
      "24/06/08 04:31:59 WARN NetworkClient: [Consumer clientId=consumer-spark-kafka-source-086f93ce-701b-44a0-b7da-a5e835da6ea5--181877961-driver-0-1, groupId=spark-kafka-source-086f93ce-701b-44a0-b7da-a5e835da6ea5--181877961-driver-0] Connection to node 1 (localhost/127.0.0.1:9092) could not be established. Broker may not be available.\n",
      "24/06/08 04:32:00 WARN NetworkClient: [Consumer clientId=consumer-spark-kafka-source-086f93ce-701b-44a0-b7da-a5e835da6ea5--181877961-driver-0-1, groupId=spark-kafka-source-086f93ce-701b-44a0-b7da-a5e835da6ea5--181877961-driver-0] Connection to node 1 (localhost/127.0.0.1:9092) could not be established. Broker may not be available.\n",
      "24/06/08 04:32:01 WARN NetworkClient: [Consumer clientId=consumer-spark-kafka-source-086f93ce-701b-44a0-b7da-a5e835da6ea5--181877961-driver-0-1, groupId=spark-kafka-source-086f93ce-701b-44a0-b7da-a5e835da6ea5--181877961-driver-0] Connection to node 1 (localhost/127.0.0.1:9092) could not be established. Broker may not be available.\n",
      "24/06/08 04:32:02 WARN NetworkClient: [Consumer clientId=consumer-spark-kafka-source-086f93ce-701b-44a0-b7da-a5e835da6ea5--181877961-driver-0-1, groupId=spark-kafka-source-086f93ce-701b-44a0-b7da-a5e835da6ea5--181877961-driver-0] Connection to node 1 (localhost/127.0.0.1:9092) could not be established. Broker may not be available.\n",
      "24/06/08 04:32:03 WARN NetworkClient: [Consumer clientId=consumer-spark-kafka-source-086f93ce-701b-44a0-b7da-a5e835da6ea5--181877961-driver-0-1, groupId=spark-kafka-source-086f93ce-701b-44a0-b7da-a5e835da6ea5--181877961-driver-0] Connection to node 1 (localhost/127.0.0.1:9092) could not be established. Broker may not be available.\n",
      "24/06/08 04:32:05 WARN NetworkClient: [Consumer clientId=consumer-spark-kafka-source-086f93ce-701b-44a0-b7da-a5e835da6ea5--181877961-driver-0-1, groupId=spark-kafka-source-086f93ce-701b-44a0-b7da-a5e835da6ea5--181877961-driver-0] Connection to node 1 (localhost/127.0.0.1:9092) could not be established. Broker may not be available.\n",
      "24/06/08 04:32:06 WARN NetworkClient: [Consumer clientId=consumer-spark-kafka-source-086f93ce-701b-44a0-b7da-a5e835da6ea5--181877961-driver-0-1, groupId=spark-kafka-source-086f93ce-701b-44a0-b7da-a5e835da6ea5--181877961-driver-0] Connection to node 1 (localhost/127.0.0.1:9092) could not be established. Broker may not be available.\n",
      "24/06/08 04:32:07 WARN NetworkClient: [Consumer clientId=consumer-spark-kafka-source-086f93ce-701b-44a0-b7da-a5e835da6ea5--181877961-driver-0-1, groupId=spark-kafka-source-086f93ce-701b-44a0-b7da-a5e835da6ea5--181877961-driver-0] Connection to node 1 (localhost/127.0.0.1:9092) could not be established. Broker may not be available.\n",
      "24/06/08 04:32:08 WARN NetworkClient: [Consumer clientId=consumer-spark-kafka-source-086f93ce-701b-44a0-b7da-a5e835da6ea5--181877961-driver-0-1, groupId=spark-kafka-source-086f93ce-701b-44a0-b7da-a5e835da6ea5--181877961-driver-0] Connection to node 1 (localhost/127.0.0.1:9092) could not be established. Broker may not be available.\n",
      "24/06/08 04:32:09 WARN NetworkClient: [Consumer clientId=consumer-spark-kafka-source-086f93ce-701b-44a0-b7da-a5e835da6ea5--181877961-driver-0-1, groupId=spark-kafka-source-086f93ce-701b-44a0-b7da-a5e835da6ea5--181877961-driver-0] Connection to node 1 (localhost/127.0.0.1:9092) could not be established. Broker may not be available.\n",
      "24/06/08 04:32:10 WARN NetworkClient: [Consumer clientId=consumer-spark-kafka-source-086f93ce-701b-44a0-b7da-a5e835da6ea5--181877961-driver-0-1, groupId=spark-kafka-source-086f93ce-701b-44a0-b7da-a5e835da6ea5--181877961-driver-0] Connection to node 1 (localhost/127.0.0.1:9092) could not be established. Broker may not be available.\n",
      "24/06/08 04:32:11 WARN NetworkClient: [Consumer clientId=consumer-spark-kafka-source-086f93ce-701b-44a0-b7da-a5e835da6ea5--181877961-driver-0-1, groupId=spark-kafka-source-086f93ce-701b-44a0-b7da-a5e835da6ea5--181877961-driver-0] Connection to node 1 (localhost/127.0.0.1:9092) could not be established. Broker may not be available.\n",
      "24/06/08 04:32:12 WARN NetworkClient: [Consumer clientId=consumer-spark-kafka-source-086f93ce-701b-44a0-b7da-a5e835da6ea5--181877961-driver-0-1, groupId=spark-kafka-source-086f93ce-701b-44a0-b7da-a5e835da6ea5--181877961-driver-0] Connection to node 1 (localhost/127.0.0.1:9092) could not be established. Broker may not be available.\n",
      "24/06/08 04:32:13 WARN NetworkClient: [Consumer clientId=consumer-spark-kafka-source-086f93ce-701b-44a0-b7da-a5e835da6ea5--181877961-driver-0-1, groupId=spark-kafka-source-086f93ce-701b-44a0-b7da-a5e835da6ea5--181877961-driver-0] Connection to node 1 (localhost/127.0.0.1:9092) could not be established. Broker may not be available.\n",
      "24/06/08 04:32:14 WARN NetworkClient: [Consumer clientId=consumer-spark-kafka-source-086f93ce-701b-44a0-b7da-a5e835da6ea5--181877961-driver-0-1, groupId=spark-kafka-source-086f93ce-701b-44a0-b7da-a5e835da6ea5--181877961-driver-0] Connection to node 1 (localhost/127.0.0.1:9092) could not be established. Broker may not be available.\n",
      "24/06/08 04:32:15 WARN NetworkClient: [Consumer clientId=consumer-spark-kafka-source-086f93ce-701b-44a0-b7da-a5e835da6ea5--181877961-driver-0-1, groupId=spark-kafka-source-086f93ce-701b-44a0-b7da-a5e835da6ea5--181877961-driver-0] Connection to node 1 (localhost/127.0.0.1:9092) could not be established. Broker may not be available.\n",
      "24/06/08 04:32:15 WARN NetworkClient: [Consumer clientId=consumer-spark-kafka-source-086f93ce-701b-44a0-b7da-a5e835da6ea5--181877961-driver-0-1, groupId=spark-kafka-source-086f93ce-701b-44a0-b7da-a5e835da6ea5--181877961-driver-0] Connection to node 1 (localhost/127.0.0.1:9092) could not be established. Broker may not be available.\n",
      "24/06/08 04:32:16 WARN NetworkClient: [Consumer clientId=consumer-spark-kafka-source-086f93ce-701b-44a0-b7da-a5e835da6ea5--181877961-driver-0-1, groupId=spark-kafka-source-086f93ce-701b-44a0-b7da-a5e835da6ea5--181877961-driver-0] Connection to node 1 (localhost/127.0.0.1:9092) could not be established. Broker may not be available.\n",
      "24/06/08 04:32:17 WARN NetworkClient: [Consumer clientId=consumer-spark-kafka-source-086f93ce-701b-44a0-b7da-a5e835da6ea5--181877961-driver-0-1, groupId=spark-kafka-source-086f93ce-701b-44a0-b7da-a5e835da6ea5--181877961-driver-0] Connection to node 1 (localhost/127.0.0.1:9092) could not be established. Broker may not be available.\n",
      "24/06/08 04:32:18 WARN NetworkClient: [Consumer clientId=consumer-spark-kafka-source-086f93ce-701b-44a0-b7da-a5e835da6ea5--181877961-driver-0-1, groupId=spark-kafka-source-086f93ce-701b-44a0-b7da-a5e835da6ea5--181877961-driver-0] Connection to node 1 (localhost/127.0.0.1:9092) could not be established. Broker may not be available.\n",
      "24/06/08 04:32:20 WARN NetworkClient: [Consumer clientId=consumer-spark-kafka-source-086f93ce-701b-44a0-b7da-a5e835da6ea5--181877961-driver-0-1, groupId=spark-kafka-source-086f93ce-701b-44a0-b7da-a5e835da6ea5--181877961-driver-0] Connection to node 1 (localhost/127.0.0.1:9092) could not be established. Broker may not be available.\n",
      "24/06/08 04:32:21 WARN NetworkClient: [Consumer clientId=consumer-spark-kafka-source-086f93ce-701b-44a0-b7da-a5e835da6ea5--181877961-driver-0-1, groupId=spark-kafka-source-086f93ce-701b-44a0-b7da-a5e835da6ea5--181877961-driver-0] Connection to node 1 (localhost/127.0.0.1:9092) could not be established. Broker may not be available.\n",
      "24/06/08 04:32:22 WARN NetworkClient: [Consumer clientId=consumer-spark-kafka-source-086f93ce-701b-44a0-b7da-a5e835da6ea5--181877961-driver-0-1, groupId=spark-kafka-source-086f93ce-701b-44a0-b7da-a5e835da6ea5--181877961-driver-0] Connection to node 1 (localhost/127.0.0.1:9092) could not be established. Broker may not be available.\n",
      "24/06/08 04:32:22 WARN NetworkClient: [Consumer clientId=consumer-spark-kafka-source-086f93ce-701b-44a0-b7da-a5e835da6ea5--181877961-driver-0-1, groupId=spark-kafka-source-086f93ce-701b-44a0-b7da-a5e835da6ea5--181877961-driver-0] Connection to node 1 (localhost/127.0.0.1:9092) could not be established. Broker may not be available.\n",
      "24/06/08 04:32:24 WARN NetworkClient: [Consumer clientId=consumer-spark-kafka-source-086f93ce-701b-44a0-b7da-a5e835da6ea5--181877961-driver-0-1, groupId=spark-kafka-source-086f93ce-701b-44a0-b7da-a5e835da6ea5--181877961-driver-0] Connection to node 1 (localhost/127.0.0.1:9092) could not be established. Broker may not be available.\n",
      "24/06/08 04:32:25 WARN NetworkClient: [Consumer clientId=consumer-spark-kafka-source-086f93ce-701b-44a0-b7da-a5e835da6ea5--181877961-driver-0-1, groupId=spark-kafka-source-086f93ce-701b-44a0-b7da-a5e835da6ea5--181877961-driver-0] Connection to node 1 (localhost/127.0.0.1:9092) could not be established. Broker may not be available.\n",
      "24/06/08 04:32:26 WARN NetworkClient: [Consumer clientId=consumer-spark-kafka-source-086f93ce-701b-44a0-b7da-a5e835da6ea5--181877961-driver-0-1, groupId=spark-kafka-source-086f93ce-701b-44a0-b7da-a5e835da6ea5--181877961-driver-0] Connection to node 1 (localhost/127.0.0.1:9092) could not be established. Broker may not be available.\n",
      "24/06/08 04:32:27 WARN NetworkClient: [Consumer clientId=consumer-spark-kafka-source-086f93ce-701b-44a0-b7da-a5e835da6ea5--181877961-driver-0-1, groupId=spark-kafka-source-086f93ce-701b-44a0-b7da-a5e835da6ea5--181877961-driver-0] Connection to node 1 (localhost/127.0.0.1:9092) could not be established. Broker may not be available.\n",
      "24/06/08 04:32:28 WARN NetworkClient: [Consumer clientId=consumer-spark-kafka-source-086f93ce-701b-44a0-b7da-a5e835da6ea5--181877961-driver-0-1, groupId=spark-kafka-source-086f93ce-701b-44a0-b7da-a5e835da6ea5--181877961-driver-0] Connection to node 1 (localhost/127.0.0.1:9092) could not be established. Broker may not be available.\n",
      "24/06/08 04:32:29 WARN NetworkClient: [Consumer clientId=consumer-spark-kafka-source-086f93ce-701b-44a0-b7da-a5e835da6ea5--181877961-driver-0-1, groupId=spark-kafka-source-086f93ce-701b-44a0-b7da-a5e835da6ea5--181877961-driver-0] Connection to node 1 (localhost/127.0.0.1:9092) could not be established. Broker may not be available.\n",
      "24/06/08 04:32:30 WARN NetworkClient: [Consumer clientId=consumer-spark-kafka-source-086f93ce-701b-44a0-b7da-a5e835da6ea5--181877961-driver-0-1, groupId=spark-kafka-source-086f93ce-701b-44a0-b7da-a5e835da6ea5--181877961-driver-0] Connection to node 1 (localhost/127.0.0.1:9092) could not be established. Broker may not be available.\n",
      "24/06/08 04:32:31 WARN NetworkClient: [Consumer clientId=consumer-spark-kafka-source-086f93ce-701b-44a0-b7da-a5e835da6ea5--181877961-driver-0-1, groupId=spark-kafka-source-086f93ce-701b-44a0-b7da-a5e835da6ea5--181877961-driver-0] Connection to node 1 (localhost/127.0.0.1:9092) could not be established. Broker may not be available.\n",
      "24/06/08 04:32:32 WARN NetworkClient: [Consumer clientId=consumer-spark-kafka-source-086f93ce-701b-44a0-b7da-a5e835da6ea5--181877961-driver-0-1, groupId=spark-kafka-source-086f93ce-701b-44a0-b7da-a5e835da6ea5--181877961-driver-0] Connection to node 1 (localhost/127.0.0.1:9092) could not be established. Broker may not be available.\n",
      "24/06/08 04:32:33 WARN NetworkClient: [Consumer clientId=consumer-spark-kafka-source-086f93ce-701b-44a0-b7da-a5e835da6ea5--181877961-driver-0-1, groupId=spark-kafka-source-086f93ce-701b-44a0-b7da-a5e835da6ea5--181877961-driver-0] Connection to node 1 (localhost/127.0.0.1:9092) could not be established. Broker may not be available.\n",
      "24/06/08 04:32:34 WARN NetworkClient: [Consumer clientId=consumer-spark-kafka-source-086f93ce-701b-44a0-b7da-a5e835da6ea5--181877961-driver-0-1, groupId=spark-kafka-source-086f93ce-701b-44a0-b7da-a5e835da6ea5--181877961-driver-0] Connection to node 1 (localhost/127.0.0.1:9092) could not be established. Broker may not be available.\n",
      "24/06/08 04:32:35 WARN NetworkClient: [Consumer clientId=consumer-spark-kafka-source-086f93ce-701b-44a0-b7da-a5e835da6ea5--181877961-driver-0-1, groupId=spark-kafka-source-086f93ce-701b-44a0-b7da-a5e835da6ea5--181877961-driver-0] Connection to node 1 (localhost/127.0.0.1:9092) could not be established. Broker may not be available.\n",
      "24/06/08 04:32:36 WARN NetworkClient: [Consumer clientId=consumer-spark-kafka-source-086f93ce-701b-44a0-b7da-a5e835da6ea5--181877961-driver-0-1, groupId=spark-kafka-source-086f93ce-701b-44a0-b7da-a5e835da6ea5--181877961-driver-0] Connection to node 1 (localhost/127.0.0.1:9092) could not be established. Broker may not be available.\n",
      "24/06/08 04:32:37 WARN NetworkClient: [Consumer clientId=consumer-spark-kafka-source-086f93ce-701b-44a0-b7da-a5e835da6ea5--181877961-driver-0-1, groupId=spark-kafka-source-086f93ce-701b-44a0-b7da-a5e835da6ea5--181877961-driver-0] Connection to node 1 (localhost/127.0.0.1:9092) could not be established. Broker may not be available.\n",
      "24/06/08 04:32:38 WARN NetworkClient: [Consumer clientId=consumer-spark-kafka-source-086f93ce-701b-44a0-b7da-a5e835da6ea5--181877961-driver-0-1, groupId=spark-kafka-source-086f93ce-701b-44a0-b7da-a5e835da6ea5--181877961-driver-0] Connection to node 1 (localhost/127.0.0.1:9092) could not be established. Broker may not be available.\n",
      "24/06/08 04:32:39 WARN NetworkClient: [Consumer clientId=consumer-spark-kafka-source-086f93ce-701b-44a0-b7da-a5e835da6ea5--181877961-driver-0-1, groupId=spark-kafka-source-086f93ce-701b-44a0-b7da-a5e835da6ea5--181877961-driver-0] Connection to node 1 (localhost/127.0.0.1:9092) could not be established. Broker may not be available.\n",
      "24/06/08 04:32:40 WARN NetworkClient: [Consumer clientId=consumer-spark-kafka-source-086f93ce-701b-44a0-b7da-a5e835da6ea5--181877961-driver-0-1, groupId=spark-kafka-source-086f93ce-701b-44a0-b7da-a5e835da6ea5--181877961-driver-0] Connection to node 1 (localhost/127.0.0.1:9092) could not be established. Broker may not be available.\n",
      "24/06/08 04:32:42 WARN NetworkClient: [Consumer clientId=consumer-spark-kafka-source-086f93ce-701b-44a0-b7da-a5e835da6ea5--181877961-driver-0-1, groupId=spark-kafka-source-086f93ce-701b-44a0-b7da-a5e835da6ea5--181877961-driver-0] Connection to node 1 (localhost/127.0.0.1:9092) could not be established. Broker may not be available.\n",
      "24/06/08 04:32:43 WARN NetworkClient: [Consumer clientId=consumer-spark-kafka-source-086f93ce-701b-44a0-b7da-a5e835da6ea5--181877961-driver-0-1, groupId=spark-kafka-source-086f93ce-701b-44a0-b7da-a5e835da6ea5--181877961-driver-0] Connection to node 1 (localhost/127.0.0.1:9092) could not be established. Broker may not be available.\n",
      "24/06/08 04:32:44 WARN NetworkClient: [Consumer clientId=consumer-spark-kafka-source-086f93ce-701b-44a0-b7da-a5e835da6ea5--181877961-driver-0-1, groupId=spark-kafka-source-086f93ce-701b-44a0-b7da-a5e835da6ea5--181877961-driver-0] Connection to node 1 (localhost/127.0.0.1:9092) could not be established. Broker may not be available.\n",
      "24/06/08 04:32:45 WARN NetworkClient: [Consumer clientId=consumer-spark-kafka-source-086f93ce-701b-44a0-b7da-a5e835da6ea5--181877961-driver-0-1, groupId=spark-kafka-source-086f93ce-701b-44a0-b7da-a5e835da6ea5--181877961-driver-0] Connection to node 1 (localhost/127.0.0.1:9092) could not be established. Broker may not be available.\n",
      "24/06/08 04:32:46 WARN NetworkClient: [Consumer clientId=consumer-spark-kafka-source-086f93ce-701b-44a0-b7da-a5e835da6ea5--181877961-driver-0-1, groupId=spark-kafka-source-086f93ce-701b-44a0-b7da-a5e835da6ea5--181877961-driver-0] Connection to node 1 (localhost/127.0.0.1:9092) could not be established. Broker may not be available.\n",
      "24/06/08 04:32:47 WARN NetworkClient: [Consumer clientId=consumer-spark-kafka-source-086f93ce-701b-44a0-b7da-a5e835da6ea5--181877961-driver-0-1, groupId=spark-kafka-source-086f93ce-701b-44a0-b7da-a5e835da6ea5--181877961-driver-0] Connection to node 1 (localhost/127.0.0.1:9092) could not be established. Broker may not be available.\n",
      "24/06/08 04:32:47 WARN NetworkClient: [Consumer clientId=consumer-spark-kafka-source-086f93ce-701b-44a0-b7da-a5e835da6ea5--181877961-driver-0-1, groupId=spark-kafka-source-086f93ce-701b-44a0-b7da-a5e835da6ea5--181877961-driver-0] Connection to node 1 (localhost/127.0.0.1:9092) could not be established. Broker may not be available.\n",
      "24/06/08 04:32:48 WARN NetworkClient: [Consumer clientId=consumer-spark-kafka-source-086f93ce-701b-44a0-b7da-a5e835da6ea5--181877961-driver-0-1, groupId=spark-kafka-source-086f93ce-701b-44a0-b7da-a5e835da6ea5--181877961-driver-0] Connection to node 1 (localhost/127.0.0.1:9092) could not be established. Broker may not be available.\n",
      "24/06/08 04:32:49 WARN NetworkClient: [Consumer clientId=consumer-spark-kafka-source-086f93ce-701b-44a0-b7da-a5e835da6ea5--181877961-driver-0-1, groupId=spark-kafka-source-086f93ce-701b-44a0-b7da-a5e835da6ea5--181877961-driver-0] Connection to node 1 (localhost/127.0.0.1:9092) could not be established. Broker may not be available.\n",
      "24/06/08 04:32:51 WARN NetworkClient: [Consumer clientId=consumer-spark-kafka-source-086f93ce-701b-44a0-b7da-a5e835da6ea5--181877961-driver-0-1, groupId=spark-kafka-source-086f93ce-701b-44a0-b7da-a5e835da6ea5--181877961-driver-0] Connection to node 1 (localhost/127.0.0.1:9092) could not be established. Broker may not be available.\n",
      "24/06/08 04:32:52 WARN NetworkClient: [Consumer clientId=consumer-spark-kafka-source-086f93ce-701b-44a0-b7da-a5e835da6ea5--181877961-driver-0-1, groupId=spark-kafka-source-086f93ce-701b-44a0-b7da-a5e835da6ea5--181877961-driver-0] Connection to node 1 (localhost/127.0.0.1:9092) could not be established. Broker may not be available.\n",
      "24/06/08 04:32:53 WARN NetworkClient: [Consumer clientId=consumer-spark-kafka-source-086f93ce-701b-44a0-b7da-a5e835da6ea5--181877961-driver-0-1, groupId=spark-kafka-source-086f93ce-701b-44a0-b7da-a5e835da6ea5--181877961-driver-0] Connection to node 1 (localhost/127.0.0.1:9092) could not be established. Broker may not be available.\n",
      "24/06/08 04:32:54 WARN NetworkClient: [Consumer clientId=consumer-spark-kafka-source-086f93ce-701b-44a0-b7da-a5e835da6ea5--181877961-driver-0-1, groupId=spark-kafka-source-086f93ce-701b-44a0-b7da-a5e835da6ea5--181877961-driver-0] Connection to node 1 (localhost/127.0.0.1:9092) could not be established. Broker may not be available.\n",
      "24/06/08 04:32:55 WARN NetworkClient: [Consumer clientId=consumer-spark-kafka-source-086f93ce-701b-44a0-b7da-a5e835da6ea5--181877961-driver-0-1, groupId=spark-kafka-source-086f93ce-701b-44a0-b7da-a5e835da6ea5--181877961-driver-0] Connection to node 1 (localhost/127.0.0.1:9092) could not be established. Broker may not be available.\n",
      "24/06/08 04:32:56 WARN NetworkClient: [Consumer clientId=consumer-spark-kafka-source-086f93ce-701b-44a0-b7da-a5e835da6ea5--181877961-driver-0-1, groupId=spark-kafka-source-086f93ce-701b-44a0-b7da-a5e835da6ea5--181877961-driver-0] Connection to node 1 (localhost/127.0.0.1:9092) could not be established. Broker may not be available.\n",
      "24/06/08 04:32:57 WARN NetworkClient: [Consumer clientId=consumer-spark-kafka-source-086f93ce-701b-44a0-b7da-a5e835da6ea5--181877961-driver-0-1, groupId=spark-kafka-source-086f93ce-701b-44a0-b7da-a5e835da6ea5--181877961-driver-0] Connection to node 1 (localhost/127.0.0.1:9092) could not be established. Broker may not be available.\n",
      "24/06/08 04:32:58 WARN NetworkClient: [Consumer clientId=consumer-spark-kafka-source-086f93ce-701b-44a0-b7da-a5e835da6ea5--181877961-driver-0-1, groupId=spark-kafka-source-086f93ce-701b-44a0-b7da-a5e835da6ea5--181877961-driver-0] Connection to node 1 (localhost/127.0.0.1:9092) could not be established. Broker may not be available.\n",
      "24/06/08 04:32:59 WARN NetworkClient: [Consumer clientId=consumer-spark-kafka-source-086f93ce-701b-44a0-b7da-a5e835da6ea5--181877961-driver-0-1, groupId=spark-kafka-source-086f93ce-701b-44a0-b7da-a5e835da6ea5--181877961-driver-0] Connection to node 1 (localhost/127.0.0.1:9092) could not be established. Broker may not be available.\n",
      "24/06/08 04:33:00 WARN NetworkClient: [Consumer clientId=consumer-spark-kafka-source-086f93ce-701b-44a0-b7da-a5e835da6ea5--181877961-driver-0-1, groupId=spark-kafka-source-086f93ce-701b-44a0-b7da-a5e835da6ea5--181877961-driver-0] Connection to node 1 (localhost/127.0.0.1:9092) could not be established. Broker may not be available.\n",
      "24/06/08 04:33:01 WARN NetworkClient: [Consumer clientId=consumer-spark-kafka-source-086f93ce-701b-44a0-b7da-a5e835da6ea5--181877961-driver-0-1, groupId=spark-kafka-source-086f93ce-701b-44a0-b7da-a5e835da6ea5--181877961-driver-0] Connection to node 1 (localhost/127.0.0.1:9092) could not be established. Broker may not be available.\n",
      "24/06/08 04:33:02 WARN NetworkClient: [Consumer clientId=consumer-spark-kafka-source-086f93ce-701b-44a0-b7da-a5e835da6ea5--181877961-driver-0-1, groupId=spark-kafka-source-086f93ce-701b-44a0-b7da-a5e835da6ea5--181877961-driver-0] Connection to node 1 (localhost/127.0.0.1:9092) could not be established. Broker may not be available.\n",
      "24/06/08 04:33:03 WARN NetworkClient: [Consumer clientId=consumer-spark-kafka-source-086f93ce-701b-44a0-b7da-a5e835da6ea5--181877961-driver-0-1, groupId=spark-kafka-source-086f93ce-701b-44a0-b7da-a5e835da6ea5--181877961-driver-0] Connection to node 1 (localhost/127.0.0.1:9092) could not be established. Broker may not be available.\n",
      "24/06/08 04:33:04 WARN NetworkClient: [Consumer clientId=consumer-spark-kafka-source-086f93ce-701b-44a0-b7da-a5e835da6ea5--181877961-driver-0-1, groupId=spark-kafka-source-086f93ce-701b-44a0-b7da-a5e835da6ea5--181877961-driver-0] Connection to node 1 (localhost/127.0.0.1:9092) could not be established. Broker may not be available.\n",
      "24/06/08 04:33:05 WARN NetworkClient: [Consumer clientId=consumer-spark-kafka-source-086f93ce-701b-44a0-b7da-a5e835da6ea5--181877961-driver-0-1, groupId=spark-kafka-source-086f93ce-701b-44a0-b7da-a5e835da6ea5--181877961-driver-0] Connection to node 1 (localhost/127.0.0.1:9092) could not be established. Broker may not be available.\n",
      "24/06/08 04:33:06 WARN NetworkClient: [Consumer clientId=consumer-spark-kafka-source-086f93ce-701b-44a0-b7da-a5e835da6ea5--181877961-driver-0-1, groupId=spark-kafka-source-086f93ce-701b-44a0-b7da-a5e835da6ea5--181877961-driver-0] Connection to node 1 (localhost/127.0.0.1:9092) could not be established. Broker may not be available.\n",
      "24/06/08 04:33:07 WARN NetworkClient: [Consumer clientId=consumer-spark-kafka-source-086f93ce-701b-44a0-b7da-a5e835da6ea5--181877961-driver-0-1, groupId=spark-kafka-source-086f93ce-701b-44a0-b7da-a5e835da6ea5--181877961-driver-0] Connection to node 1 (localhost/127.0.0.1:9092) could not be established. Broker may not be available.\n",
      "24/06/08 04:33:08 WARN NetworkClient: [Consumer clientId=consumer-spark-kafka-source-086f93ce-701b-44a0-b7da-a5e835da6ea5--181877961-driver-0-1, groupId=spark-kafka-source-086f93ce-701b-44a0-b7da-a5e835da6ea5--181877961-driver-0] Connection to node 1 (localhost/127.0.0.1:9092) could not be established. Broker may not be available.\n",
      "24/06/08 04:33:09 WARN NetworkClient: [Consumer clientId=consumer-spark-kafka-source-086f93ce-701b-44a0-b7da-a5e835da6ea5--181877961-driver-0-1, groupId=spark-kafka-source-086f93ce-701b-44a0-b7da-a5e835da6ea5--181877961-driver-0] Connection to node 1 (localhost/127.0.0.1:9092) could not be established. Broker may not be available.\n",
      "24/06/08 04:33:10 WARN NetworkClient: [Consumer clientId=consumer-spark-kafka-source-086f93ce-701b-44a0-b7da-a5e835da6ea5--181877961-driver-0-1, groupId=spark-kafka-source-086f93ce-701b-44a0-b7da-a5e835da6ea5--181877961-driver-0] Connection to node 1 (localhost/127.0.0.1:9092) could not be established. Broker may not be available.\n",
      "24/06/08 04:33:11 WARN NetworkClient: [Consumer clientId=consumer-spark-kafka-source-086f93ce-701b-44a0-b7da-a5e835da6ea5--181877961-driver-0-1, groupId=spark-kafka-source-086f93ce-701b-44a0-b7da-a5e835da6ea5--181877961-driver-0] Connection to node 1 (localhost/127.0.0.1:9092) could not be established. Broker may not be available.\n",
      "24/06/08 04:33:12 WARN NetworkClient: [Consumer clientId=consumer-spark-kafka-source-086f93ce-701b-44a0-b7da-a5e835da6ea5--181877961-driver-0-1, groupId=spark-kafka-source-086f93ce-701b-44a0-b7da-a5e835da6ea5--181877961-driver-0] Connection to node 1 (localhost/127.0.0.1:9092) could not be established. Broker may not be available.\n",
      "24/06/08 04:33:13 WARN NetworkClient: [Consumer clientId=consumer-spark-kafka-source-086f93ce-701b-44a0-b7da-a5e835da6ea5--181877961-driver-0-1, groupId=spark-kafka-source-086f93ce-701b-44a0-b7da-a5e835da6ea5--181877961-driver-0] Connection to node 1 (localhost/127.0.0.1:9092) could not be established. Broker may not be available.\n",
      "24/06/08 04:33:14 WARN NetworkClient: [Consumer clientId=consumer-spark-kafka-source-086f93ce-701b-44a0-b7da-a5e835da6ea5--181877961-driver-0-1, groupId=spark-kafka-source-086f93ce-701b-44a0-b7da-a5e835da6ea5--181877961-driver-0] Connection to node 1 (localhost/127.0.0.1:9092) could not be established. Broker may not be available.\n",
      "24/06/08 04:33:15 WARN NetworkClient: [Consumer clientId=consumer-spark-kafka-source-086f93ce-701b-44a0-b7da-a5e835da6ea5--181877961-driver-0-1, groupId=spark-kafka-source-086f93ce-701b-44a0-b7da-a5e835da6ea5--181877961-driver-0] Connection to node 1 (localhost/127.0.0.1:9092) could not be established. Broker may not be available.\n",
      "24/06/08 04:33:16 WARN NetworkClient: [Consumer clientId=consumer-spark-kafka-source-086f93ce-701b-44a0-b7da-a5e835da6ea5--181877961-driver-0-1, groupId=spark-kafka-source-086f93ce-701b-44a0-b7da-a5e835da6ea5--181877961-driver-0] Connection to node 1 (localhost/127.0.0.1:9092) could not be established. Broker may not be available.\n",
      "24/06/08 04:33:17 WARN NetworkClient: [Consumer clientId=consumer-spark-kafka-source-086f93ce-701b-44a0-b7da-a5e835da6ea5--181877961-driver-0-1, groupId=spark-kafka-source-086f93ce-701b-44a0-b7da-a5e835da6ea5--181877961-driver-0] Connection to node 1 (localhost/127.0.0.1:9092) could not be established. Broker may not be available.\n",
      "24/06/08 04:33:18 WARN NetworkClient: [Consumer clientId=consumer-spark-kafka-source-086f93ce-701b-44a0-b7da-a5e835da6ea5--181877961-driver-0-1, groupId=spark-kafka-source-086f93ce-701b-44a0-b7da-a5e835da6ea5--181877961-driver-0] Connection to node 1 (localhost/127.0.0.1:9092) could not be established. Broker may not be available.\n",
      "24/06/08 04:33:19 WARN NetworkClient: [Consumer clientId=consumer-spark-kafka-source-086f93ce-701b-44a0-b7da-a5e835da6ea5--181877961-driver-0-1, groupId=spark-kafka-source-086f93ce-701b-44a0-b7da-a5e835da6ea5--181877961-driver-0] Connection to node 1 (localhost/127.0.0.1:9092) could not be established. Broker may not be available.\n",
      "24/06/08 04:33:20 WARN NetworkClient: [Consumer clientId=consumer-spark-kafka-source-086f93ce-701b-44a0-b7da-a5e835da6ea5--181877961-driver-0-1, groupId=spark-kafka-source-086f93ce-701b-44a0-b7da-a5e835da6ea5--181877961-driver-0] Connection to node 1 (localhost/127.0.0.1:9092) could not be established. Broker may not be available.\n",
      "24/06/08 04:33:21 WARN NetworkClient: [Consumer clientId=consumer-spark-kafka-source-086f93ce-701b-44a0-b7da-a5e835da6ea5--181877961-driver-0-1, groupId=spark-kafka-source-086f93ce-701b-44a0-b7da-a5e835da6ea5--181877961-driver-0] Connection to node 1 (localhost/127.0.0.1:9092) could not be established. Broker may not be available.\n",
      "24/06/08 04:33:22 WARN NetworkClient: [Consumer clientId=consumer-spark-kafka-source-086f93ce-701b-44a0-b7da-a5e835da6ea5--181877961-driver-0-1, groupId=spark-kafka-source-086f93ce-701b-44a0-b7da-a5e835da6ea5--181877961-driver-0] Connection to node 1 (localhost/127.0.0.1:9092) could not be established. Broker may not be available.\n",
      "24/06/08 04:33:23 WARN NetworkClient: [Consumer clientId=consumer-spark-kafka-source-086f93ce-701b-44a0-b7da-a5e835da6ea5--181877961-driver-0-1, groupId=spark-kafka-source-086f93ce-701b-44a0-b7da-a5e835da6ea5--181877961-driver-0] Connection to node 1 (localhost/127.0.0.1:9092) could not be established. Broker may not be available.\n",
      "24/06/08 04:33:25 WARN NetworkClient: [Consumer clientId=consumer-spark-kafka-source-086f93ce-701b-44a0-b7da-a5e835da6ea5--181877961-driver-0-1, groupId=spark-kafka-source-086f93ce-701b-44a0-b7da-a5e835da6ea5--181877961-driver-0] Connection to node 1 (localhost/127.0.0.1:9092) could not be established. Broker may not be available.\n",
      "24/06/08 04:33:26 WARN NetworkClient: [Consumer clientId=consumer-spark-kafka-source-086f93ce-701b-44a0-b7da-a5e835da6ea5--181877961-driver-0-1, groupId=spark-kafka-source-086f93ce-701b-44a0-b7da-a5e835da6ea5--181877961-driver-0] Connection to node 1 (localhost/127.0.0.1:9092) could not be established. Broker may not be available.\n",
      "24/06/08 04:33:27 WARN NetworkClient: [Consumer clientId=consumer-spark-kafka-source-086f93ce-701b-44a0-b7da-a5e835da6ea5--181877961-driver-0-1, groupId=spark-kafka-source-086f93ce-701b-44a0-b7da-a5e835da6ea5--181877961-driver-0] Connection to node 1 (localhost/127.0.0.1:9092) could not be established. Broker may not be available.\n",
      "24/06/08 04:33:27 WARN NetworkClient: [Consumer clientId=consumer-spark-kafka-source-086f93ce-701b-44a0-b7da-a5e835da6ea5--181877961-driver-0-1, groupId=spark-kafka-source-086f93ce-701b-44a0-b7da-a5e835da6ea5--181877961-driver-0] Connection to node 1 (localhost/127.0.0.1:9092) could not be established. Broker may not be available.\n",
      "24/06/08 04:33:29 WARN NetworkClient: [Consumer clientId=consumer-spark-kafka-source-086f93ce-701b-44a0-b7da-a5e835da6ea5--181877961-driver-0-1, groupId=spark-kafka-source-086f93ce-701b-44a0-b7da-a5e835da6ea5--181877961-driver-0] Connection to node 1 (localhost/127.0.0.1:9092) could not be established. Broker may not be available.\n",
      "24/06/08 04:33:30 WARN NetworkClient: [Consumer clientId=consumer-spark-kafka-source-086f93ce-701b-44a0-b7da-a5e835da6ea5--181877961-driver-0-1, groupId=spark-kafka-source-086f93ce-701b-44a0-b7da-a5e835da6ea5--181877961-driver-0] Connection to node 1 (localhost/127.0.0.1:9092) could not be established. Broker may not be available.\n",
      "24/06/08 04:33:31 WARN NetworkClient: [Consumer clientId=consumer-spark-kafka-source-086f93ce-701b-44a0-b7da-a5e835da6ea5--181877961-driver-0-1, groupId=spark-kafka-source-086f93ce-701b-44a0-b7da-a5e835da6ea5--181877961-driver-0] Connection to node 1 (localhost/127.0.0.1:9092) could not be established. Broker may not be available.\n",
      "24/06/08 04:33:32 WARN NetworkClient: [Consumer clientId=consumer-spark-kafka-source-086f93ce-701b-44a0-b7da-a5e835da6ea5--181877961-driver-0-1, groupId=spark-kafka-source-086f93ce-701b-44a0-b7da-a5e835da6ea5--181877961-driver-0] Connection to node 1 (localhost/127.0.0.1:9092) could not be established. Broker may not be available.\n",
      "24/06/08 04:33:33 WARN NetworkClient: [Consumer clientId=consumer-spark-kafka-source-086f93ce-701b-44a0-b7da-a5e835da6ea5--181877961-driver-0-1, groupId=spark-kafka-source-086f93ce-701b-44a0-b7da-a5e835da6ea5--181877961-driver-0] Connection to node 1 (localhost/127.0.0.1:9092) could not be established. Broker may not be available.\n",
      "24/06/08 04:33:34 WARN NetworkClient: [Consumer clientId=consumer-spark-kafka-source-086f93ce-701b-44a0-b7da-a5e835da6ea5--181877961-driver-0-1, groupId=spark-kafka-source-086f93ce-701b-44a0-b7da-a5e835da6ea5--181877961-driver-0] Connection to node 1 (localhost/127.0.0.1:9092) could not be established. Broker may not be available.\n",
      "24/06/08 04:33:35 WARN NetworkClient: [Consumer clientId=consumer-spark-kafka-source-086f93ce-701b-44a0-b7da-a5e835da6ea5--181877961-driver-0-1, groupId=spark-kafka-source-086f93ce-701b-44a0-b7da-a5e835da6ea5--181877961-driver-0] Connection to node 1 (localhost/127.0.0.1:9092) could not be established. Broker may not be available.\n",
      "24/06/08 04:33:36 WARN NetworkClient: [Consumer clientId=consumer-spark-kafka-source-086f93ce-701b-44a0-b7da-a5e835da6ea5--181877961-driver-0-1, groupId=spark-kafka-source-086f93ce-701b-44a0-b7da-a5e835da6ea5--181877961-driver-0] Connection to node 1 (localhost/127.0.0.1:9092) could not be established. Broker may not be available.\n",
      "24/06/08 04:33:37 WARN NetworkClient: [Consumer clientId=consumer-spark-kafka-source-086f93ce-701b-44a0-b7da-a5e835da6ea5--181877961-driver-0-1, groupId=spark-kafka-source-086f93ce-701b-44a0-b7da-a5e835da6ea5--181877961-driver-0] Connection to node 1 (localhost/127.0.0.1:9092) could not be established. Broker may not be available.\n",
      "24/06/08 04:33:38 WARN NetworkClient: [Consumer clientId=consumer-spark-kafka-source-086f93ce-701b-44a0-b7da-a5e835da6ea5--181877961-driver-0-1, groupId=spark-kafka-source-086f93ce-701b-44a0-b7da-a5e835da6ea5--181877961-driver-0] Connection to node 1 (localhost/127.0.0.1:9092) could not be established. Broker may not be available.\n",
      "24/06/08 04:33:39 WARN NetworkClient: [Consumer clientId=consumer-spark-kafka-source-086f93ce-701b-44a0-b7da-a5e835da6ea5--181877961-driver-0-1, groupId=spark-kafka-source-086f93ce-701b-44a0-b7da-a5e835da6ea5--181877961-driver-0] Connection to node 1 (localhost/127.0.0.1:9092) could not be established. Broker may not be available.\n",
      "24/06/08 04:33:40 WARN NetworkClient: [Consumer clientId=consumer-spark-kafka-source-086f93ce-701b-44a0-b7da-a5e835da6ea5--181877961-driver-0-1, groupId=spark-kafka-source-086f93ce-701b-44a0-b7da-a5e835da6ea5--181877961-driver-0] Connection to node 1 (localhost/127.0.0.1:9092) could not be established. Broker may not be available.\n",
      "24/06/08 04:33:41 WARN NetworkClient: [Consumer clientId=consumer-spark-kafka-source-086f93ce-701b-44a0-b7da-a5e835da6ea5--181877961-driver-0-1, groupId=spark-kafka-source-086f93ce-701b-44a0-b7da-a5e835da6ea5--181877961-driver-0] Connection to node 1 (localhost/127.0.0.1:9092) could not be established. Broker may not be available.\n",
      "24/06/08 04:33:42 WARN NetworkClient: [Consumer clientId=consumer-spark-kafka-source-086f93ce-701b-44a0-b7da-a5e835da6ea5--181877961-driver-0-1, groupId=spark-kafka-source-086f93ce-701b-44a0-b7da-a5e835da6ea5--181877961-driver-0] Connection to node 1 (localhost/127.0.0.1:9092) could not be established. Broker may not be available.\n",
      "24/06/08 04:33:43 WARN NetworkClient: [Consumer clientId=consumer-spark-kafka-source-086f93ce-701b-44a0-b7da-a5e835da6ea5--181877961-driver-0-1, groupId=spark-kafka-source-086f93ce-701b-44a0-b7da-a5e835da6ea5--181877961-driver-0] Connection to node 1 (localhost/127.0.0.1:9092) could not be established. Broker may not be available.\n",
      "24/06/08 04:33:44 WARN NetworkClient: [Consumer clientId=consumer-spark-kafka-source-086f93ce-701b-44a0-b7da-a5e835da6ea5--181877961-driver-0-1, groupId=spark-kafka-source-086f93ce-701b-44a0-b7da-a5e835da6ea5--181877961-driver-0] Connection to node 1 (localhost/127.0.0.1:9092) could not be established. Broker may not be available.\n",
      "24/06/08 04:33:45 WARN NetworkClient: [Consumer clientId=consumer-spark-kafka-source-086f93ce-701b-44a0-b7da-a5e835da6ea5--181877961-driver-0-1, groupId=spark-kafka-source-086f93ce-701b-44a0-b7da-a5e835da6ea5--181877961-driver-0] Connection to node 1 (localhost/127.0.0.1:9092) could not be established. Broker may not be available.\n",
      "24/06/08 04:33:46 WARN NetworkClient: [Consumer clientId=consumer-spark-kafka-source-086f93ce-701b-44a0-b7da-a5e835da6ea5--181877961-driver-0-1, groupId=spark-kafka-source-086f93ce-701b-44a0-b7da-a5e835da6ea5--181877961-driver-0] Connection to node 1 (localhost/127.0.0.1:9092) could not be established. Broker may not be available.\n"
     ]
    }
   ],
   "source": []
  },
  {
   "cell_type": "code",
   "execution_count": 7,
   "metadata": {},
   "outputs": [],
   "source": [
    "from pyspark.sql import types\n",
    "\n",
    "schema = types.StructType() \\\n",
    "    .add(\"lpep_pickup_datetime\", types.StringType()) \\\n",
    "    .add(\"lpep_dropoff_datetime\", types.StringType()) \\\n",
    "    .add(\"PULocationID\", types.IntegerType()) \\\n",
    "    .add(\"DOLocationID\", types.IntegerType()) \\\n",
    "    .add(\"passenger_count\", types.DoubleType()) \\\n",
    "    .add(\"trip_distance\", types.DoubleType()) \\\n",
    "    .add(\"tip_amount\", types.DoubleType())"
   ]
  },
  {
   "cell_type": "code",
   "execution_count": 8,
   "metadata": {},
   "outputs": [],
   "source": [
    "from pyspark.sql import functions as F\n",
    "\n",
    "green_stream = green_stream \\\n",
    "  .select(F.from_json(F.col(\"value\").cast('STRING'), schema).alias(\"data\")) \\\n",
    "  .select(\"data.*\")"
   ]
  }
 ],
 "metadata": {
  "kernelspec": {
   "display_name": "Python 3 (ipykernel)",
   "language": "python",
   "name": "python3"
  },
  "language_info": {
   "codemirror_mode": {
    "name": "ipython",
    "version": 3
   },
   "file_extension": ".py",
   "mimetype": "text/x-python",
   "name": "python",
   "nbconvert_exporter": "python",
   "pygments_lexer": "ipython3",
   "version": "3.10.12"
  }
 },
 "nbformat": 4,
 "nbformat_minor": 4
}
